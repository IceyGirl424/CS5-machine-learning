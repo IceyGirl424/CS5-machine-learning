{
 "cells": [
  {
   "cell_type": "markdown",
   "id": "af574d08-4df7-4fe5-b332-8b7f8e7f615c",
   "metadata": {},
   "source": [
    "# Homework 1\n",
    "\n",
    "**Due Date**: 2/9/25 by 8pm on Canvas\n",
    "\n",
    "In this homework assignment, you are going to write a contact book.\n",
    "\n",
    "Let's assume that the contacts book follows this general pattern: `{contact_name: (phone_number, [extra_info])}`\n",
    "\n",
    "This contact book requires the use of multiple Python data structures (list, dictionary, tuple). The outer structure is a dictionary. We will use the name of the contact as the key. For the value, we will use a tuple, where the first element is a string containing the phone number of the contact, while the second value is a list of extraneous information. This could be their email address, home address, birthday, a second phone number, etc.\n",
    "\n",
    "Our contact book has four different features: **update**, **search**, **remove**, and **display**. You are welcome to work on these features in whichever order you wish.\n",
    "\n",
    "You can work on this by yourself or with one other person in the class. If you are working as a group, only one person needs to submit the assignment on Canvas, but make sure to write who you worked with as a submission comment!"
   ]
  },
  {
   "cell_type": "markdown",
   "id": "cf2f6829-394b-4189-b975-5344a3760c4d",
   "metadata": {},
   "source": [
    "## Update\n",
    "\n",
    "We need a function that is able to add a new contact or update existing information in the contact book. There are various scenarios to consider here.\n",
    "\n",
    "First, start by asking the user to enter the name of the contact. If that contact does not exist, then you'll need the user to enter the phone number. You will also need to ask the user if they wish to enter additional information about that contact. Allow the user to enter as much additional information as they want by using a loop. Once all the information has been gathered, store this into the contact book.\n",
    "\n",
    "Another scenario occurs when the contact already exists. If that's the case, you'll need to ask the user which information they want to update. This could be the phone number, but it could also be one of the additional pieces of information they previously entered. Or, they might want to enter new additional information! You will need to handle these various scenarios."
   ]
  },
  {
   "cell_type": "code",
   "execution_count": 2,
   "id": "c444a406-fd58-4647-858f-0240f21d7cd3",
   "metadata": {},
   "outputs": [],
   "source": [
    "def update(contacts):\n",
    "    # TODO: write your solution here\n",
    "    name = input(\"Enter the contact name: \")\n",
    "\n",
    "    if name in contacts:\n",
    "        print(f\"{name} already exists in the contact book.\")\n",
    "        phone, extra_info = contacts[name]\n",
    "\n",
    "        print(f\"Current phone number: {phone}\")\n",
    "        print(\"Additional info:\")\n",
    "        for i, info in enumerate(extra_info, 1):\n",
    "            print(f\"{i}. {info}\")\n",
    "\n",
    "        choice = input(\"What would you like to update? (phone/info/add new): \").strip().lower()\n",
    "\n",
    "        if choice == \"phone\":\n",
    "            new_phone = input(\"Enter the new phone number: \")\n",
    "            contacts[name] = (new_phone, extra_info)\n",
    "            print(f\"Phone number updated for {name}.\")\n",
    "\n",
    "        elif choice == \"info\":\n",
    "            index = int(input(\"Enter the number of the info you want to update: \")) - 1\n",
    "            if 0 <= index < len(extra_info):\n",
    "                new_info = input(\"Enter the new information: \")\n",
    "                extra_info[index] = new_info\n",
    "                contacts[name] = (phone, extra_info)\n",
    "                print(\"Additional info updated.\")\n",
    "            else:\n",
    "                print(\"Invalid selection.\")\n",
    "\n",
    "        elif choice == \"add new\":\n",
    "            new_info = input(\"Enter the new information to add: \")\n",
    "            extra_info.append(new_info)\n",
    "            contacts[name] = (phone, extra_info)\n",
    "            print(\"New information added.\")\n",
    "\n",
    "        else:\n",
    "            print(\"Invalid choice.\")\n",
    "\n",
    "    else:\n",
    "        phone = input(\"Enter the phone number: \")\n",
    "        extra_info = []\n",
    "        while True:\n",
    "            extra = input(\"Enter additional info (or press Enter to stop): \")\n",
    "            if extra == \"\":\n",
    "                break\n",
    "            extra_info.append(extra)\n",
    "\n",
    "        contacts[name] = (phone, extra_info)\n",
    "        print(f\"Contact {name} added successfully.\")"
   ]
  },
  {
   "cell_type": "markdown",
   "id": "b4b177f3-1f96-46c9-b737-41e624ff4809",
   "metadata": {},
   "source": [
    "## Search\n",
    "\n",
    "This function is supposed to allow the user to look up a contact and display just their information. The user will need to provide the name of the contact. If that contact exists in the contact book, display the information. Otherwise, let the user know that the name they entered does not exist as a contact. Consider any edge cases, like if the contact book is empty, for example."
   ]
  },
  {
   "cell_type": "code",
   "execution_count": 7,
   "id": "4d99c817-1aaf-47a8-96e5-7876cba4df7f",
   "metadata": {},
   "outputs": [],
   "source": [
    "def search(contacts):\n",
    "    # TODO: write your solution here\n",
    "    if not contacts:  # Check if the contact book is empty\n",
    "        print(\"The contact book is empty.\")\n",
    "        return\n",
    "    \n",
    "    name = input(\"Enter the contact name you want to search for: \")\n",
    "    \n",
    "    if name in contacts:  # Check if the contact exists\n",
    "        phone, extra_info = contacts[name]\n",
    "        print(f\"Contact: {name}\")\n",
    "        print(f\"Phone: {phone}\")\n",
    "        if extra_info:\n",
    "            print(\"Additional Info:\")\n",
    "            for info in extra_info:\n",
    "                print(f\"- {info}\")\n",
    "        else:\n",
    "            print(\"No additional info available.\")\n",
    "    else:\n",
    "        print(f\"{name} does not exist in the contact book.\")"
   ]
  },
  {
   "cell_type": "markdown",
   "id": "a932d97d-dd30-4096-918d-fb02f39a730a",
   "metadata": {},
   "source": [
    "## Remove\n",
    "\n",
    "This function is meant to allow the user to remove a contact from their contact book. The user will need to provide the name of the contact. If that contact exists in the contact book, delete their entry. Otherwise, let the user know that the name they entered does not exist as a contact. Consider any edge cases, like if the contact book is empty, for example."
   ]
  },
  {
   "cell_type": "code",
   "execution_count": 9,
   "id": "a90864f4-9cb7-4a7e-ad4e-00fa8eb23c2f",
   "metadata": {},
   "outputs": [],
   "source": [
    "def remove(contacts):\n",
    "    # TODO: write your solution here\n",
    "    if not contacts:  # Check if the contact book is empty\n",
    "        print(\"The contact book is empty. No contacts to remove.\")\n",
    "        return\n",
    "\n",
    "    name = input(\"Enter the contact name you want to remove: \")\n",
    "    \n",
    "    if name in contacts:  # Check if the contact exists\n",
    "        del contacts[name]  # Remove the contact from the dictionary\n",
    "        print(f\"{name} has been removed from the contact book.\")\n",
    "        \n",
    "    else:\n",
    "        print(f\"{name} does not exist in the contact book.\")"
   ]
  },
  {
   "cell_type": "markdown",
   "id": "9f9e01c6-b536-412e-9702-c030bfa51c03",
   "metadata": {},
   "source": [
    "## Display\n",
    "\n",
    "This function displays the entire contact book. For each contact in the contact book, display their name, phone number, and any additional information that has been stored. If the contact book is empty (no entries), display a message to the user that they need to add entries first."
   ]
  },
  {
   "cell_type": "code",
   "execution_count": 17,
   "id": "93aa699f-7455-4c8c-9cc4-ee6f7c8b0f6a",
   "metadata": {},
   "outputs": [],
   "source": [
    "def display(contacts):\n",
    "    # TODO: write your solution here\n",
    "    if not contacts:  # Check if the contact book is empty\n",
    "       print(\"The contact book is empty. Add some contacts first.\")\n",
    "       return\n",
    "    \n",
    "    print(\"\\nContact Book:\")\n",
    "    print(\"=\" * 40)\n",
    "    \n",
    "    for name, (phone, extra_info) in contacts.items():\n",
    "        print(f\"Name: {name}\")\n",
    "        print(f\"Phone: {phone}\")\n",
    "        \n",
    "        if extra_info:  # Check if there are additional details\n",
    "            print(\"Additional Info:\")\n",
    "            for info in extra_info:\n",
    "                print(f\"  - {info}\")\n",
    "        \n",
    "        print(\"=\" * 40)"
   ]
  },
  {
   "cell_type": "markdown",
   "id": "2f35427a-1f90-495a-b308-babee4cdc787",
   "metadata": {},
   "source": [
    "## User Interface\n",
    "\n",
    "Bringing it all together, we need code to allow the user to interact with their contact book. <mark>Do not modify this code!</mark>"
   ]
  },
  {
   "cell_type": "code",
   "execution_count": 19,
   "id": "5051c36d-b1c3-4bd2-ac97-ff1574c606a1",
   "metadata": {},
   "outputs": [
    {
     "name": "stdout",
     "output_type": "stream",
     "text": [
      "Here are your options:\n",
      "    (1) Update your contacts\n",
      "    (2) Search your contacts\n",
      "    (3) Remove from your contacts\n",
      "    (4) Display your contact book\n",
      "    (5) Exit the program\n",
      "    \n"
     ]
    },
    {
     "name": "stdin",
     "output_type": "stream",
     "text": [
      "Enter your choice: 1\n",
      "Enter the contact name:  Alina\n",
      "Enter the phone number:  123-456-789\n",
      "Enter additional info (or press Enter to stop):  additional info here\n",
      "Enter additional info (or press Enter to stop):  erm\n",
      "Enter additional info (or press Enter to stop):  \n"
     ]
    },
    {
     "name": "stdout",
     "output_type": "stream",
     "text": [
      "Contact Alina added successfully.\n",
      "\n",
      "Here are your options:\n",
      "    (1) Update your contacts\n",
      "    (2) Search your contacts\n",
      "    (3) Remove from your contacts\n",
      "    (4) Display your contact book\n",
      "    (5) Exit the program\n",
      "    \n"
     ]
    },
    {
     "name": "stdin",
     "output_type": "stream",
     "text": [
      "Enter your choice: 4\n"
     ]
    },
    {
     "name": "stdout",
     "output_type": "stream",
     "text": [
      "\n",
      "Contact Book:\n",
      "========================================\n",
      "Name: Alina\n",
      "Phone: 123-456-789\n",
      "Additional Info:\n",
      "  - additional info here\n",
      "  - erm\n",
      "========================================\n",
      "\n",
      "Here are your options:\n",
      "    (1) Update your contacts\n",
      "    (2) Search your contacts\n",
      "    (3) Remove from your contacts\n",
      "    (4) Display your contact book\n",
      "    (5) Exit the program\n",
      "    \n"
     ]
    },
    {
     "name": "stdin",
     "output_type": "stream",
     "text": [
      "Enter your choice: 1\n",
      "Enter the contact name:  Bob\n",
      "Enter the phone number:  333-333-333\n",
      "Enter additional info (or press Enter to stop):  bob the builder\n",
      "Enter additional info (or press Enter to stop):  \n"
     ]
    },
    {
     "name": "stdout",
     "output_type": "stream",
     "text": [
      "Contact Bob added successfully.\n",
      "\n",
      "Here are your options:\n",
      "    (1) Update your contacts\n",
      "    (2) Search your contacts\n",
      "    (3) Remove from your contacts\n",
      "    (4) Display your contact book\n",
      "    (5) Exit the program\n",
      "    \n"
     ]
    },
    {
     "name": "stdin",
     "output_type": "stream",
     "text": [
      "Enter your choice: 2\n",
      "Enter the contact name you want to search for:  Bob\n"
     ]
    },
    {
     "name": "stdout",
     "output_type": "stream",
     "text": [
      "Contact: Bob\n",
      "Phone: 333-333-333\n",
      "Additional Info:\n",
      "- bob the builder\n",
      "\n",
      "Here are your options:\n",
      "    (1) Update your contacts\n",
      "    (2) Search your contacts\n",
      "    (3) Remove from your contacts\n",
      "    (4) Display your contact book\n",
      "    (5) Exit the program\n",
      "    \n"
     ]
    },
    {
     "name": "stdin",
     "output_type": "stream",
     "text": [
      "Enter your choice: 3\n",
      "Enter the contact name you want to remove:  Alina\n"
     ]
    },
    {
     "name": "stdout",
     "output_type": "stream",
     "text": [
      "Alina has been removed from the contact book.\n",
      "\n",
      "Here are your options:\n",
      "    (1) Update your contacts\n",
      "    (2) Search your contacts\n",
      "    (3) Remove from your contacts\n",
      "    (4) Display your contact book\n",
      "    (5) Exit the program\n",
      "    \n"
     ]
    },
    {
     "name": "stdin",
     "output_type": "stream",
     "text": [
      "Enter your choice: 4\n"
     ]
    },
    {
     "name": "stdout",
     "output_type": "stream",
     "text": [
      "\n",
      "Contact Book:\n",
      "========================================\n",
      "Name: Bob\n",
      "Phone: 333-333-333\n",
      "Additional Info:\n",
      "  - bob the builder\n",
      "========================================\n",
      "\n",
      "Here are your options:\n",
      "    (1) Update your contacts\n",
      "    (2) Search your contacts\n",
      "    (3) Remove from your contacts\n",
      "    (4) Display your contact book\n",
      "    (5) Exit the program\n",
      "    \n"
     ]
    },
    {
     "name": "stdin",
     "output_type": "stream",
     "text": [
      "Enter your choice: 5\n"
     ]
    },
    {
     "name": "stdout",
     "output_type": "stream",
     "text": [
      "\n"
     ]
    }
   ],
   "source": [
    "contact_book = {}\n",
    "flag = True\n",
    "\n",
    "while flag:\n",
    "    print('''\\\n",
    "Here are your options:\n",
    "    (1) Update your contacts\n",
    "    (2) Search your contacts\n",
    "    (3) Remove from your contacts\n",
    "    (4) Display your contact book\n",
    "    (5) Exit the program\n",
    "    ''')\n",
    "\n",
    "    user_choice = 0\n",
    "    while user_choice not in range(1, 6):\n",
    "        user_choice = int(input('Enter your choice:'))\n",
    "\n",
    "    if user_choice == 1:\n",
    "        update(contact_book)\n",
    "    elif user_choice == 2:\n",
    "        search(contact_book)\n",
    "    elif user_choice == 3:\n",
    "        remove(contact_book)\n",
    "    elif user_choice == 4:\n",
    "        display(contact_book)\n",
    "\n",
    "    flag = user_choice != 5\n",
    "\n",
    "    print()"
   ]
  },
  {
   "cell_type": "code",
   "execution_count": null,
   "id": "d1248f46-9952-4428-94d1-69d39c21509c",
   "metadata": {},
   "outputs": [],
   "source": []
  }
 ],
 "metadata": {
  "kernelspec": {
   "display_name": "Python 3 (ipykernel)",
   "language": "python",
   "name": "python3"
  },
  "language_info": {
   "codemirror_mode": {
    "name": "ipython",
    "version": 3
   },
   "file_extension": ".py",
   "mimetype": "text/x-python",
   "name": "python",
   "nbconvert_exporter": "python",
   "pygments_lexer": "ipython3",
   "version": "3.11.7"
  }
 },
 "nbformat": 4,
 "nbformat_minor": 5
}
