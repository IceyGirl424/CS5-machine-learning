{
 "cells": [
  {
   "cell_type": "markdown",
   "id": "b381eba5-d396-444f-82df-81bb784db19c",
   "metadata": {},
   "source": [
    "# Homework 2\n",
    "\n",
    "**Due Date**: 3/2/25 by 8pm on Canvas\n",
    "\n",
    "In this homework assignment, you are going to create a friend finder based on musical preferences. The idea is that we can interpret our dataset as a social network of users. People that have similar musical tastes should be \"closer\" in the network.\n",
    "\n",
    "An unlabeled dataset has already been generated for you with 5,000 entries. You will need to use unsupervised learning to find clusters and use them as pseudo-labels for the dataset. Then, use this information with a supervised learning technique to train a model and use this so our users can find new friends that have similar tastes.\n",
    "\n",
    "You can work on this by yourself or with one other person in the class. If you are working as a group, only one person needs to submit the assignment on Canvas, but make sure to write who you worked with as a submission comment!"
   ]
  },
  {
   "cell_type": "markdown",
   "id": "b3e631c9-58f6-41ef-87d2-2ac4a4a8fe6f",
   "metadata": {},
   "source": [
    "## Installing Libraries\n",
    "\n",
    "Machine learning in Python has a plethora of popularly used libraries. We can install these library packages within the Jupyter Notebooks itself. Just run the cell below and it should download and install them to your computer. You only need to run this cell one time. After the package has been installed, feel free to change the cell type below from \"Code\" to \"Raw\" so it doesn't run this again."
   ]
  },
  {
   "cell_type": "code",
   "execution_count": 1,
   "id": "23767d1a-1cb9-4f9b-afdb-3653f4c6ac56",
   "metadata": {},
   "outputs": [
    {
     "name": "stdout",
     "output_type": "stream",
     "text": [
      "Requirement already satisfied: matplotlib in /opt/anaconda3/lib/python3.11/site-packages (3.8.0)\n",
      "Requirement already satisfied: contourpy>=1.0.1 in /opt/anaconda3/lib/python3.11/site-packages (from matplotlib) (1.2.0)\n",
      "Requirement already satisfied: cycler>=0.10 in /opt/anaconda3/lib/python3.11/site-packages (from matplotlib) (0.11.0)\n",
      "Requirement already satisfied: fonttools>=4.22.0 in /opt/anaconda3/lib/python3.11/site-packages (from matplotlib) (4.25.0)\n",
      "Requirement already satisfied: kiwisolver>=1.0.1 in /opt/anaconda3/lib/python3.11/site-packages (from matplotlib) (1.4.4)\n",
      "Requirement already satisfied: numpy<2,>=1.21 in /opt/anaconda3/lib/python3.11/site-packages (from matplotlib) (1.26.4)\n",
      "Requirement already satisfied: packaging>=20.0 in /opt/anaconda3/lib/python3.11/site-packages (from matplotlib) (23.1)\n",
      "Requirement already satisfied: pillow>=6.2.0 in /opt/anaconda3/lib/python3.11/site-packages (from matplotlib) (10.2.0)\n",
      "Requirement already satisfied: pyparsing>=2.3.1 in /opt/anaconda3/lib/python3.11/site-packages (from matplotlib) (3.0.9)\n",
      "Requirement already satisfied: python-dateutil>=2.7 in /opt/anaconda3/lib/python3.11/site-packages (from matplotlib) (2.8.2)\n",
      "Requirement already satisfied: six>=1.5 in /opt/anaconda3/lib/python3.11/site-packages (from python-dateutil>=2.7->matplotlib) (1.16.0)\n",
      "Requirement already satisfied: numpy in /opt/anaconda3/lib/python3.11/site-packages (1.26.4)\n",
      "Requirement already satisfied: scikit-learn in /opt/anaconda3/lib/python3.11/site-packages (1.2.2)\n",
      "Requirement already satisfied: numpy>=1.17.3 in /opt/anaconda3/lib/python3.11/site-packages (from scikit-learn) (1.26.4)\n",
      "Requirement already satisfied: scipy>=1.3.2 in /opt/anaconda3/lib/python3.11/site-packages (from scikit-learn) (1.11.4)\n",
      "Requirement already satisfied: joblib>=1.1.1 in /opt/anaconda3/lib/python3.11/site-packages (from scikit-learn) (1.2.0)\n",
      "Requirement already satisfied: threadpoolctl>=2.0.0 in /opt/anaconda3/lib/python3.11/site-packages (from scikit-learn) (2.2.0)\n"
     ]
    }
   ],
   "source": [
    "import sys\n",
    "!{'\"' + sys.executable + '\"'} -m pip install matplotlib\n",
    "!{'\"' + sys.executable + '\"'} -m pip install numpy\n",
    "!{'\"' + sys.executable + '\"'} -m pip install scikit-learn"
   ]
  },
  {
   "cell_type": "markdown",
   "id": "8dddfa7b-02cc-4978-8776-807228a7e04f",
   "metadata": {},
   "source": [
    "## Imports\n",
    "\n",
    "Let's begin by importing all the necessary library modules for this assignment."
   ]
  },
  {
   "cell_type": "code",
   "execution_count": 3,
   "id": "f88ccf7c-c42a-4c27-bbe9-16ce321e29ea",
   "metadata": {},
   "outputs": [],
   "source": [
    "from sklearn.cluster import KMeans\n",
    "from sklearn.metrics import ConfusionMatrixDisplay, confusion_matrix, f1_score, precision_score, recall_score\n",
    "from sklearn.model_selection import train_test_split\n",
    "from sklearn.neighbors import KNeighborsClassifier\n",
    "from sklearn.preprocessing import StandardScaler\n",
    "import csv\n",
    "import matplotlib.pyplot as plt\n",
    "import numpy as np\n",
    "\n",
    "%matplotlib inline"
   ]
  },
  {
   "cell_type": "markdown",
   "id": "a5095d26-ed29-4419-a74a-e9a18a939358",
   "metadata": {},
   "source": [
    "## Dataset\n",
    "\n",
    "At the crux of any machine learning application is a dataset. Our first objective is to load in an existing dataset and do some basic processing on it to make it usable by our ML algorithms."
   ]
  },
  {
   "cell_type": "markdown",
   "id": "3074b381-e662-48d5-a490-6dcf97af44b0",
   "metadata": {},
   "source": [
    "### Loading the Dataset\n",
    "\n",
    "As part of the assignment, you have been provided a CSV (comma-separated values) file representing the dataset. We will need to load this CSV file into our notebook and store its contents into a list. Note, the code below assumes that the CSV file is in the same directory as this notebook. If you stored the file in a separate location, you'll need to adjust the file path below."
   ]
  },
  {
   "cell_type": "code",
   "execution_count": 5,
   "id": "c0ccffb3-48a1-4e83-bd7b-96375b3f1f7f",
   "metadata": {},
   "outputs": [],
   "source": [
    "# load the dataset from the CSV file\n",
    "filepath = 'music-preferences.csv'\n",
    "raw_dataset = []\n",
    "with open(filepath, 'r', encoding='utf-8', newline='') as csvfile:\n",
    "    reader = csv.reader(csvfile, delimiter=',')\n",
    "    raw_dataset = list(reader)"
   ]
  },
  {
   "cell_type": "markdown",
   "id": "5d6664b2-8cbc-4ff8-ab02-f7e5b8481c00",
   "metadata": {},
   "source": [
    "### Processing\n",
    "\n",
    "With the dataset now loaded in, we will need to perform some processing. Namely, we need to do the following in this order:\n",
    "\n",
    "1. Extract the first row out of the dataset, as this contains the column headers. Store this in a variable called `header_row`.\n",
    "2. Extract the first column out the dataset, as this contains the names of the users. Store this in a variable called `user_names`.\n",
    "3. Convert all the values in the dataset into integers.\n",
    "4. Transform the dataset from a nested list into a proper numpy array. Store this numpy array as the variable `X`.\n",
    "5. Scale the dataset using the `StandardScaler` from scikit-learn. Create a variable called `scaler` for this purpose (we'll need this for later too)."
   ]
  },
  {
   "cell_type": "code",
   "execution_count": 9,
   "id": "078016af-144b-4e29-b525-bdea50d462e0",
   "metadata": {},
   "outputs": [],
   "source": [
    "# TODO: extract the first row\n",
    "header_row = raw_dataset[0]\n",
    "\n",
    "# TODO: extract the first column\n",
    "user_names = []\n",
    "for row in raw_dataset[1:]:\n",
    "    user_names.append(row[0])\n",
    "\n",
    "# TODO: convert all values to integers\n",
    "data_values = []\n",
    "for row in raw_dataset[1:]:\n",
    "    int_values = []\n",
    "    for value in row[1:]:\n",
    "        int_values.append(int(value))\n",
    "    data_values.append(int_values)\n",
    "\n",
    "# TODO: convert to a numpy array\n",
    "X = np.array(data_values)\n",
    "\n",
    "# TODO: scale the dataset\n",
    "scaler = StandardScaler()\n",
    "X_scaled = scaler.fit_transform(X)"
   ]
  },
  {
   "cell_type": "markdown",
   "id": "9cc67b50-c754-40d4-b3d8-53b78b957668",
   "metadata": {},
   "source": [
    "## $k$-Means Clustering\n",
    "\n",
    "With the dataset now ready, let's use the $k$-Means Clustering algorithm to find potential clusters."
   ]
  },
  {
   "cell_type": "markdown",
   "id": "251f508b-0f65-4576-b950-6733357982ec",
   "metadata": {},
   "source": [
    "### Finding a $k$ Value\n",
    "\n",
    "Of course, before we can use $k$-MC, we have to find a good $k$ value to use. Use the elbow method we discussed in class to find a suitable $k$ value. Use mathplotlib to visualize these results."
   ]
  },
  {
   "cell_type": "code",
   "execution_count": 11,
   "id": "44339989-ac2c-4c72-b68e-f49b18d0a0b3",
   "metadata": {},
   "outputs": [
    {
     "data": {
      "image/png": "[encoded data removed]",
      "text/plain": [
       "<Figure size 800x500 with 1 Axes>"
      ]
     },
     "metadata": {},
     "output_type": "display_data"
    }
   ],
   "source": [
    "# TODO: use elbow method to find suitable k value\n",
    "sums = []\n",
    "\n",
    "for k in range(1, 11):\n",
    "    kmeans = KMeans(n_clusters=k, random_state=42, n_init=10)\n",
    "    kmeans.fit(X_scaled)\n",
    "    sums.append(kmeans.inertia_)\n",
    "\n",
    "# Plot the elbow curve\n",
    "plt.figure(figsize=(8, 5))\n",
    "plt.plot(range(1, 11), sums, marker='o', linestyle='--', color='b')\n",
    "plt.xlabel(\"Number of Clusters (k)\")\n",
    "plt.ylabel(\"WCSS (Within-Cluster Sum of Squares)\")\n",
    "plt.title(\"Elbow Method for Optimal k\")\n",
    "plt.xticks(range(1, 11))\n",
    "plt.grid()\n",
    "plt.show()"
   ]
  },
  {
   "cell_type": "markdown",
   "id": "2d4085d5-5ea2-47ab-a8a1-c517419f5f64",
   "metadata": {},
   "source": [
    "### Train and Determine Clusters\n",
    "\n",
    "With a good $k$ value in mind, you can now use $k$-MC on the dataset `X`. Use the `KMeans` function from scikit-learn to train a model on our dataset. After training, extract the cluster information and store this as the variable `y`, as we will be treating them as pseudo-labels."
   ]
  },
  {
   "cell_type": "code",
   "execution_count": 15,
   "id": "47fe549d-6bdd-4b69-8c95-104b05d355f8",
   "metadata": {},
   "outputs": [
    {
     "name": "stdout",
     "output_type": "stream",
     "text": [
      "Cluster Labels (y): [4 3 0 ... 0 3 4]\n",
      "Cluster Centers:\n",
      " [[ 0.71718645  0.06413601 -0.02995732  0.08327689  0.45966321 -0.85496785\n",
      "   0.69861611 -0.19834029 -0.12139257]\n",
      " [-0.83749714  0.55244859  0.88828478  0.11926512 -0.10318847  0.13937477\n",
      "   0.1587002  -0.08466655  0.20908337]\n",
      " [-0.76975285 -0.19813569 -0.75683949 -0.1331896  -0.14958777 -0.54714625\n",
      "  -0.59292522 -0.19289805 -0.10276861]\n",
      " [ 0.80899134 -0.19340317  0.42890885  0.14078956 -0.22937663  0.19446478\n",
      "  -0.8958805   0.21541047  0.1497386 ]\n",
      " [ 0.14305188 -0.232139   -0.57501458 -0.20646342  0.07113419  0.9369833\n",
      "   0.68214941  0.22874146 -0.15526903]]\n"
     ]
    }
   ],
   "source": [
    "# TODO: train k-MC on the dataset\n",
    "optimal_k = 5\n",
    "\n",
    "# TODO: use clusters to form labels\n",
    "kmeans = KMeans(n_clusters=optimal_k, random_state=42, n_init=10)\n",
    "kmeans.fit(X_scaled)\n",
    "\n",
    "#pseudo-labels\n",
    "y = kmeans.labels_\n",
    "\n",
    "print(\"Cluster Labels (y):\", y)\n",
    "print(\"Cluster Centers:\\n\", kmeans.cluster_centers_)"
   ]
  },
  {
   "cell_type": "markdown",
   "id": "3208eb7d-b661-4d75-bc26-02ebefd61072",
   "metadata": {},
   "source": [
    "## $k$-Nearest Neighbor\n",
    "\n",
    "Now that we have \"labels\" for the dataset, let's use the $k$-Nearest Neigbor algorithm to create an ML model."
   ]
  },
  {
   "cell_type": "markdown",
   "id": "c6979512-5a63-4299-b1bf-902617b645ec",
   "metadata": {},
   "source": [
    "### Splitting the Dataset\n",
    "\n",
    "Before we can train our ML model, we need to split our dataset into three partitions: training, validation, and testing. Once again, use the `train_test_split` function from scikit-learn to create an 80/10/10 split of the original dataset."
   ]
  },
  {
   "cell_type": "code",
   "execution_count": 17,
   "id": "a67da189-5a13-4863-b611-c047c0688654",
   "metadata": {},
   "outputs": [
    {
     "name": "stdout",
     "output_type": "stream",
     "text": [
      "Training set: 4000 samples\n",
      "Validation set: 500 samples\n",
      "Test set: 500 samples\n"
     ]
    }
   ],
   "source": [
    "# TODO: split into 3 subsets\n",
    "X_train, X_temp, y_train, y_temp = train_test_split(X, y, test_size=0.2, random_state=42, stratify=y)\n",
    "\n",
    "X_val, X_test, y_val, y_test = train_test_split(X_temp, y_temp, test_size=0.5, random_state=42, stratify=y_temp)\n",
    "\n",
    "print(f\"Training set: {X_train.shape[0]} samples\")\n",
    "print(f\"Validation set: {X_val.shape[0]} samples\")\n",
    "print(f\"Test set: {X_test.shape[0]} samples\")"
   ]
  },
  {
   "cell_type": "markdown",
   "id": "57881062-79f6-4b60-af98-10397dc60743",
   "metadata": {},
   "source": [
    "### Train and Predict with a $k$-NN Model\n",
    "\n",
    "With our dataset split, we can now use the training set to create a $k$-NN model. Use the `KNeighborsClassifier` function from scikit-learn for this purpose. You need to also use this trained $k$-NN model to predict the labels for the validation set."
   ]
  },
  {
   "cell_type": "code",
   "execution_count": 19,
   "id": "378a6bc7-efa7-4a68-99c5-54f61badb4ec",
   "metadata": {},
   "outputs": [],
   "source": [
    "# TODO: apply k-NN to training set\n",
    "k_val = 5\n",
    "knn = KNeighborsClassifier(n_neighbors=k_val)\n",
    "knn.fit(X_train, y_train)\n",
    "\n",
    "# TODO: predict the labels for the validation set\n",
    "y_val_pred = knn.predict(X_val)"
   ]
  },
  {
   "cell_type": "markdown",
   "id": "f9807db5-737f-40cf-8e86-8462c2a0d1c5",
   "metadata": {},
   "source": [
    "### Metrics\n",
    "\n",
    "Next, we need to compute various metrics on our model to determine if it did well. Use the appropriate scikit-learn functions to compute the following metrics:\n",
    "\n",
    "- accuracy rate\n",
    "- error rate\n",
    "- precision score\n",
    "- recall score\n",
    "- F1-score\n",
    "- confusion matrix (it is recommended to use the `ConfusionMatrixDisplay` function for this)\n",
    "\n",
    "Use these results to adjust the hyperparameters of $k$-NN as necessary. Your model needs to achieve at least an 80% for accuracy, precision, recall, and F1."
   ]
  },
  {
   "cell_type": "code",
   "execution_count": 23,
   "id": "d87c4e34-941c-47a7-b7c2-041a130418f0",
   "metadata": {},
   "outputs": [
    {
     "name": "stdout",
     "output_type": "stream",
     "text": [
      "Accuracy: 0.8180\n",
      "Error Rate: 0.1820\n",
      "Precision: 0.8189\n",
      "Recall: 0.8180\n",
      "F1-Score: 0.8178\n"
     ]
    },
    {
     "data": {
      "image/png": "[encoded data removed]",
      "text/plain": [
       "<Figure size 640x480 with 2 Axes>"
      ]
     },
     "metadata": {},
     "output_type": "display_data"
    }
   ],
   "source": [
    "# TODO: compute metrics using the validation set\n",
    "from sklearn.metrics import accuracy_score, precision_score, recall_score, f1_score, confusion_matrix, ConfusionMatrixDisplay\n",
    "\n",
    "accuracy = accuracy_score(y_val, y_val_pred)\n",
    "error_rate = 1 - accuracy\n",
    "precision = precision_score(y_val, y_val_pred, average='weighted')\n",
    "recall = recall_score(y_val, y_val_pred, average='weighted')\n",
    "f1 = f1_score(y_val, y_val_pred, average='weighted')\n",
    "\n",
    "# Confusion matrix\n",
    "cm = confusion_matrix(y_val, y_val_pred)\n",
    "cm_display = ConfusionMatrixDisplay(confusion_matrix=cm, display_labels=np.unique(y))\n",
    "\n",
    "# Display the confusion matrix\n",
    "cm_display.plot(cmap='Blues')\n",
    "\n",
    "# Print the metrics\n",
    "print(f\"Accuracy: {accuracy:.4f}\")\n",
    "print(f\"Error Rate: {error_rate:.4f}\")\n",
    "print(f\"Precision: {precision:.4f}\")\n",
    "print(f\"Recall: {recall:.4f}\")\n",
    "print(f\"F1-Score: {f1:.4f}\")"
   ]
  },
  {
   "cell_type": "markdown",
   "id": "97b5adde-90fd-4ab8-9d96-07408742947f",
   "metadata": {},
   "source": [
    "## User Testing\n",
    "\n",
    "With our model trained, let's have some fun! The code cell below will allow a user to interact with our model and find some new friends 😉🎶🎵\n",
    "\n",
    "Note, the code below assumes you used `kmeans_model` as the variable name for the $k$-MC model and `knn_model` for the $k$-NN model. If you used different names, you'll need to adjust the code accordingly."
   ]
  },
  {
   "cell_type": "code",
   "execution_count": 29,
   "id": "34ec8623-cb06-42cf-b032-5640a5ec2416",
   "metadata": {},
   "outputs": [
    {
     "name": "stdout",
     "output_type": "stream",
     "text": [
      "Welcome to my Music Friend Finder!\n",
      "For each of the following music genres, please enter a score between 0 (hate) and 5 (love):\n"
     ]
    },
    {
     "name": "stdin",
     "output_type": "stream",
     "text": [
      "\tRock:  0\n",
      "\tPop:  0\n",
      "\tHip hop:  1\n",
      "\tCountry:  2\n",
      "\tJazz:  4\n",
      "\tClassical:  5\n",
      "\tElectronic:  4\n",
      "\tMetal:  3\n",
      "\tLatin:  2\n"
     ]
    },
    {
     "name": "stdout",
     "output_type": "stream",
     "text": [
      "\n",
      "Based on our model, we believe you belong to cluster [4]\n",
      "\n",
      "The following are your top 3 music friends!\n",
      "\t1. Cameron Powell\n",
      "\t\t [[9.27864321 5.90952316 7.5882487  5.92003931 4.20984456 7.59963326\n",
      "  5.92981255 4.24961677 9.31187799]]\n",
      "\t\t(distance: 3.7390044441896437)\n",
      "\t2. Caroline Lee\n",
      "\t\t [[10.97215402  5.90952316  5.89403246  4.21041965  5.91488912  2.5014\n",
      "   9.32042509  9.36586708  2.489     ]]\n",
      "\t\t(distance: 4.10272036849564)\n",
      "\t3. Ethan Brown\n",
      "\t\t [[ 7.58513241  7.60818474  9.28246493  4.21041965  4.20984456 10.99845543\n",
      "  11.01573137  9.36586708  5.90043899]]\n",
      "\t\t(distance: 4.334207969128874)\n"
     ]
    }
   ],
   "source": [
    "# get user input\n",
    "print('Welcome to my Music Friend Finder!')\n",
    "print('For each of the following music genres, please enter a score between 0 (hate) and 5 (love):')\n",
    "user_scores = []\n",
    "for genre in header_row[1:]:\n",
    "    user_num = -1\n",
    "    while user_num not in range(0, 6):\n",
    "        user_num = int(input('\\t' + genre[0].upper() + genre[1:] + ': '))\n",
    "    user_scores.append(user_num)\n",
    "\n",
    "\n",
    "# scale their data\n",
    "new_data = np.array(user_scores).reshape(1, -1)\n",
    "new_data = scaler.transform(new_data)\n",
    "\n",
    "\n",
    "# predict their cluster using k-MC\n",
    "predicted_cluster = kmeans.predict(new_data)\n",
    "print()\n",
    "print(f'Based on our model, we believe you belong to cluster {predicted_cluster}')\n",
    "print()\n",
    "\n",
    "\n",
    "# display their neighbors\n",
    "num_friends = 3\n",
    "neigh_dist, neigh_ind = knn.kneighbors(X=new_data, n_neighbors=num_friends, return_distance=True)\n",
    "print(f'The following are your top {num_friends} music friends!')\n",
    "for n in range(1, num_friends + 1):\n",
    "    friend_features = X[neigh_ind[0, n - 1]]\n",
    "    print('\\t', n, '. ', user_names[neigh_ind[0, n - 1]], sep='')\n",
    "    print('\\t\\t', scaler.inverse_transform(friend_features.reshape(1, -1)))\n",
    "    print(f'\\t\\t(distance: {neigh_dist[0, n - 1]})')"
   ]
  },
  {
   "cell_type": "markdown",
   "id": "46d7a235-0bc5-4b87-9d6a-03338d3c4377",
   "metadata": {},
   "source": [
    "## Final Test\n",
    "\n",
    "As a final test, let's see how well your trained model does on the test set. <span style=\"color: red;\">You should only do this ONCE!</span> **Do not use the results from here to go back and adjust your model anymore.**\n",
    "\n",
    "You just need to copy-and-paste your code from the relevant sections in the notebook and change out the validation set for the test set. Namely, you will need to predict the labels for the test set and then compute the metrics."
   ]
  },
  {
   "cell_type": "code",
   "execution_count": null,
   "id": "856dae2b-e9e9-4b95-a461-9ed096cbd774",
   "metadata": {},
   "outputs": [],
   "source": [
    "# TODO: predict the labels for the test set\n",
    "y_test_pred = knn.predict(X_test)\n",
    "\n",
    "# TODO: compute metrics using the test set\n",
    "test_accuracy = accuracy_score(y_test, y_test_pred)\n",
    "test_error_rate = 1 - test_accuracy\n",
    "test_precision = precision_score(y_test, y_test_pred, average='weighted')\n",
    "test_recall = recall_score(y_test, y_test_pred, average='weighted')\n",
    "test_f1 = f1_score(y_test, y_test_pred, average='weighted')\n",
    "\n",
    "# Confusion matrix for the test set\n",
    "test_cm = confusion_matrix(y_test, y_test_pred)\n",
    "test_cm_display = ConfusionMatrixDisplay(confusion_matrix=test_cm, display_labels=np.unique(y))\n",
    "\n",
    "# Display the confusion matrix\n",
    "test_cm_display.plot(cmap='Blues')\n",
    "\n",
    "# Print the metrics for the test set\n",
    "print(f\"Test Accuracy: {test_accuracy:.4f}\")\n",
    "print(f\"Test Error Rate: {test_error_rate:.4f}\")\n",
    "print(f\"Test Precision: {test_precision:.4f}\")\n",
    "print(f\"Test Recall: {test_recall:.4f}\")\n",
    "print(f\"Test F1-Score: {test_f1:.4f}\")"
   ]
  }
 ],
 "metadata": {
  "kernelspec": {
   "display_name": "Python 3 (ipykernel)",
   "language": "python",
   "name": "python3"
  },
  "language_info": {
   "codemirror_mode": {
    "name": "ipython",
    "version": 3
   },
   "file_extension": ".py",
   "mimetype": "text/x-python",
   "name": "python",
   "nbconvert_exporter": "python",
   "pygments_lexer": "ipython3",
   "version": "3.11.7"
  }
 },
 "nbformat": 4,
 "nbformat_minor": 5
}
