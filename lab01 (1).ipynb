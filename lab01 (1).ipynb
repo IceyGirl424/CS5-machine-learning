{
  "metadata": {
    "kernelspec": {
      "name": "python",
      "display_name": "Python (Pyodide)",
      "language": "python"
    },
    "language_info": {
      "codemirror_mode": {
        "name": "python",
        "version": 3
      },
      "file_extension": ".py",
      "mimetype": "text/x-python",
      "name": "python",
      "nbconvert_exporter": "python",
      "pygments_lexer": "ipython3",
      "version": "3.8"
    }
  },
  "nbformat_minor": 5,
  "nbformat": 4,
  "cells": [
    {
      "id": "73a8b638-a8c3-4d1a-b47c-ed865f7fe6ee",
      "cell_type": "markdown",
      "source": "# Lab 1\n\n**Due Date**: 1/24/25 by 8pm on Canvas",
      "metadata": {}
    },
    {
      "id": "8a88f26e-e18a-4ca5-b30c-272cdc13b942",
      "cell_type": "markdown",
      "source": "## Jupyter Notebooks\n\nJupyter notebook is an interactive platform, where you can write code and text, and make visualizations.",
      "metadata": {}
    },
    {
      "id": "2d577e57-6ee6-4eec-a17b-791dc7e63e3b",
      "cell_type": "markdown",
      "source": "### Cells\n\n**Code cell**: By default, a cell is of type *Code*, i.e., for typing code, as seen as the default choice in the dropdown menu below the *Widgets* tab.\n\n**Markdown cell**: A code cell cannot be used for writing headings/sub-headings, and is not appropriate for writing lengthy chunks of text. In such cases, change the cell type to *Markdown* from the dropdown menu below the *Widgets* tab. Use any markdown cheat sheet found online, for example, [this one](https://www.markdownguide.org/cheat-sheet/) to format text in the markdown cells.",
      "metadata": {
        "jp-MarkdownHeadingCollapsed": true
      }
    },
    {
      "id": "36a7c686-7014-4dca-acb8-24bcdd337b8b",
      "cell_type": "markdown",
      "source": "### Saving and Loading Notebooks\n\nSave the notebook by clicking on <kbd>File</kbd>, and selecting <kbd>Save Notebook</kbd>, or clicking on the *Save and Checkpoint* icon (the floppy disk). Your notebook will be saved as a file with the extension `ipynb`. This file will contain all the code as well as the outputs, and can be loaded and edited by a Jupyter user. To load an existing Jupyter notebook, navigate to the folder of the notebook on the landing page, and then click on the file to open it.",
      "metadata": {
        "jp-MarkdownHeadingCollapsed": true
      }
    },
    {
      "id": "4c590429-564a-4e21-aa24-c884394e9562",
      "cell_type": "markdown",
      "source": "## Variables, Expressions, and Statements\n\nTo execute the Python code in the code cell below, click on the cell to select it and press <kbd>Shift</kbd> + <kbd>Enter</kbd> or click on the Play symbol.",
      "metadata": {}
    },
    {
      "id": "fd20813d-c1f0-408e-b493-5d7c28d97f1b",
      "cell_type": "code",
      "source": "print('Hello, Python!')",
      "metadata": {},
      "outputs": [],
      "execution_count": null
    },
    {
      "id": "2523e4d2-bf6d-4e84-9951-d1a0676b9726",
      "cell_type": "markdown",
      "source": "`print()` is a function. You passed the string `'Hello, Python!'` as an argument to instruct Python on what to print.\n\n### Comments\n\nIn addition to writing code, note that it's always a good idea to add comments to your code. It will help others understand what you were trying to accomplish (the reason why you wrote a given snippet of code). Not only does this help **other people** understand your code, it can also serve as a reminder **to you** when you come back to it weeks or months later.\n\nTo write comments in Python, use the number symbol `#` before writing your comment. When you run your code, Python will ignore everything past the `#` on a given line.",
      "metadata": {}
    },
    {
      "id": "7c495d65-e8f7-44c4-880e-055a6f465f54",
      "cell_type": "code",
      "source": "# Practice on writing comments\n\nprint('Hello, Python!') # This line prints a string\n# print('Hi')",
      "metadata": {},
      "outputs": [],
      "execution_count": null
    },
    {
      "id": "11c6df95-f24f-4b2f-a4f7-e9e4f80a070a",
      "cell_type": "markdown",
      "source": "### Errors\n\nEveryone makes mistakes. For many types of mistakes, Python will tell you that you have made a mistake by giving you an error message. It is important to read error messages carefully to really understand where you made a mistake and how you may go about correcting it.\n\nFor example, if you spell `print` as `frint`, Python will display an error message.",
      "metadata": {}
    },
    {
      "id": "b25a3209-91c8-42f0-8ca0-e214bcb50b9a",
      "cell_type": "code",
      "source": "frint(\"Hello, Python!\")",
      "metadata": {},
      "outputs": [],
      "execution_count": null
    },
    {
      "id": "bf91d44f-bca9-4348-9d34-441f84cf184a",
      "cell_type": "markdown",
      "source": "The error message tells you:\n\n- where the error occurred (more useful in large notebook cells or scripts), and\n- what kind of error it was (NameError)\n\nHere, Python attempted to run the function `frint`, but could not determine what `frint` is since it's not a built-in function and it has not been previously defined by us either.\n\nYou'll notice that if we make a different type of mistake, by forgetting to close the string, we'll obtain a different error (i.e., a *SyntaxError*).",
      "metadata": {}
    },
    {
      "id": "88911a1b-0314-4895-b018-40b2a5c559f8",
      "cell_type": "code",
      "source": "print(\"Hello, Python!)",
      "metadata": {},
      "outputs": [],
      "execution_count": null
    },
    {
      "id": "151ea900-1972-44ff-8edf-6a97c0cfa8ce",
      "cell_type": "markdown",
      "source": "Python is what is called an *interpreted language*. Compiled languages examine your entire program at compile time, and are able to warn you about a whole class of errors prior to execution. In contrast, Python interprets your script line by line as it executes it. Python will stop executing the entire program when it encounters an error.",
      "metadata": {}
    },
    {
      "id": "02bb2bc5-3ea9-45f7-9fe2-458e64817bf1",
      "cell_type": "code",
      "source": "print(\"This will be printed\")\nfrint(\"This will cause an error\")\nprint(\"This will NOT be printed\")",
      "metadata": {},
      "outputs": [],
      "execution_count": null
    },
    {
      "id": "72f4b410-530a-4674-a4bb-a2c9df8b719c",
      "cell_type": "markdown",
      "source": "### Data Types\n\nPython is an *object-oriented language*. There are many different types of objects in Python. Anytime you write words (text) in Python, you're using *strings*. The most common numbers, on the other hand, are *integers* (e.g. -1, 0, 100) and *floats*, which represent real numbers (e.g. 3.14, -42.0).\n\n`int`, `float`, `bool`, `None`, and `str` are called **primitive data types**.",
      "metadata": {}
    },
    {
      "id": "a063af5e-4549-46f9-8580-5b2c7e701dea",
      "cell_type": "code",
      "source": "print(11) # integer\nprint(2.14) # float\nprint(\"A chicken crossed the road\") # string",
      "metadata": {},
      "outputs": [],
      "execution_count": null
    },
    {
      "id": "bcf05eb5-f1bc-499f-81e8-c75df677032c",
      "cell_type": "markdown",
      "source": "You can get Python to tell you the type of an expression by using the built-in `type()` function.",
      "metadata": {}
    },
    {
      "id": "4d123491-a99d-48eb-be3b-500e3746035d",
      "cell_type": "code",
      "source": "print(type(4))\nprint(type(4.4))\nprint(type('4'))\nprint(type(True))",
      "metadata": {},
      "outputs": [],
      "execution_count": null
    },
    {
      "id": "a38c8b09-12de-4cfb-9164-9c4df1c22484",
      "cell_type": "markdown",
      "source": "You can change the type of the object in Python; this is called **typecasting**. For example, you can convert an `int` into a `float`.",
      "metadata": {}
    },
    {
      "id": "e57c1357-22fa-4917-9774-5b7e7dddf349",
      "cell_type": "code",
      "source": "print(float(2)) # convert 2 to a float\nprint(type(float(2))) # convert integer 2 to a float and check its type",
      "metadata": {},
      "outputs": [],
      "execution_count": null
    },
    {
      "id": "fc76ac09-1f1c-4480-b052-87097a4f4dc9",
      "cell_type": "markdown",
      "source": "When we convert an integer into a float, we don't really change the value of the number. However, if we cast a float into an integer, we could potentially lose some information.",
      "metadata": {}
    },
    {
      "id": "8639a976-18a7-4e23-82b4-fcdbbf3e5d2f",
      "cell_type": "code",
      "source": "print(\"Original value:\", 1.1)\nprint(\"Converted value:\", int(1.1))",
      "metadata": {},
      "outputs": [],
      "execution_count": null
    },
    {
      "id": "3edca84c-b7d8-45bd-b39e-d69e34258e1c",
      "cell_type": "markdown",
      "source": "Sometimes, we can have a string that contains a number within it. If this is the case, we can cast that string that represents a number into an integer using `int()`.",
      "metadata": {}
    },
    {
      "id": "27ce3aa1-6e25-4a68-a8c6-e65363dfe224",
      "cell_type": "code",
      "source": "print(int(\"1\"))\nprint(int(\"4\") + int(\"5\"))",
      "metadata": {},
      "outputs": [],
      "execution_count": null
    },
    {
      "id": "d19f1d68-1cb1-46e4-8fc7-e4796649cc30",
      "cell_type": "markdown",
      "source": "You can also convert strings containing floating point numbers into `float` objects.",
      "metadata": {}
    },
    {
      "id": "2cc2cd74-0e97-4ec0-896d-04fea422feba",
      "cell_type": "code",
      "source": "print(float(\"1.2\"))\nprint(float(\"9.4\") - 1.25)",
      "metadata": {},
      "outputs": [],
      "execution_count": null
    },
    {
      "id": "ac0f2be6-1915-4f95-83f0-63f4101b998f",
      "cell_type": "markdown",
      "source": "Note that strings can be represented with single quotes (`'1.2'`) or double quotes (`\"1.2\"`), but you can't mix both (e.g., `\"1.2'`).",
      "metadata": {}
    },
    {
      "id": "a540e686-9248-4586-8a68-e2020e300951",
      "cell_type": "markdown",
      "source": "### Variables\n\nJust like with most programming languages, we can store values in **variables**, so we can use them later on.",
      "metadata": {}
    },
    {
      "id": "233877b4-5199-425a-b2aa-fec215fcd569",
      "cell_type": "code",
      "source": "x = 43 + 60 + 16 + 41",
      "metadata": {},
      "outputs": [],
      "execution_count": null
    },
    {
      "id": "61b421a4-402a-4b50-85f6-9e4b4d46ddc1",
      "cell_type": "markdown",
      "source": "We can also perform operations on `x` and save the result to a new variable.",
      "metadata": {}
    },
    {
      "id": "2ccbea93-8706-4fe1-984d-3665b15ad6b6",
      "cell_type": "code",
      "source": "y = x / 60\nprint(y)",
      "metadata": {},
      "outputs": [],
      "execution_count": null
    },
    {
      "id": "13553d88-cd7f-4163-b4a4-c7025f3c7f0b",
      "cell_type": "markdown",
      "source": "If we save a value to an existing variable, the new value will overwrite the previous value.",
      "metadata": {}
    },
    {
      "id": "8971b386-5a54-43ee-b1d9-4fcd2e5f6da5",
      "cell_type": "code",
      "source": "x = x / 60\nprint('New value:', x)",
      "metadata": {},
      "outputs": [],
      "execution_count": null
    },
    {
      "id": "dc95107f-110f-422c-8153-60f60914981c",
      "cell_type": "markdown",
      "source": "### User Input\n\nPython's `input()` function can be used to accept an input from the user. For example, suppose we wish the user to input their age.",
      "metadata": {}
    },
    {
      "id": "78324b1f-c6e2-4dc7-aed9-77d53e731265",
      "cell_type": "code",
      "source": "age = input(\"Enter your age:\")",
      "metadata": {},
      "outputs": [],
      "execution_count": null
    },
    {
      "id": "f8c05c7f-1034-4ebc-b542-328a4917a5c0",
      "cell_type": "markdown",
      "source": "The entered value is stored in the variable `age` and can be used for computation.\n\nNote: for those of you using an online environment for Jupyter, you may run into the following error when getting input:\n\n```\nTypeError: 'PyodideFuture' object is not subscriptable\n```\n\nIf you do, you will need to add the `await` keyword in front of the `input()` function call. For example:\n\n```Python\nuser_answer = await input(\"Please give me input:\")\n```\n\nAdditionally, you have to isolate any input into their own code cell.",
      "metadata": {}
    },
    {
      "id": "6ea33e80-9610-4599-bccc-a28d194e53f3",
      "cell_type": "markdown",
      "source": "<mark>Exercise 1</mark>\n\nAsk the user to input their year of birth. Then, calculate and print their age (or the age they will be this year).",
      "metadata": {}
    },
    {
      "id": "7d9728d8-960b-4342-a65d-547d73f720dd",
      "cell_type": "code",
      "source": "# TODO: write your solution here\nuser_answer = await input(\"Input your year of birth (#): \")",
      "metadata": {
        "trusted": true
      },
      "outputs": [
        {
          "output_type": "stream",
          "name": "stdin",
          "text": "Input your year of birth (#):  2003\n"
        }
      ],
      "execution_count": 1
    },
    {
      "id": "a6f256f7-82db-4033-8a14-5b69ec05f3b4",
      "cell_type": "code",
      "source": "# TODO: write your solution here\ncurrent_age = 2025 - int(user_answer)\nprint(current_age)",
      "metadata": {
        "trusted": true
      },
      "outputs": [
        {
          "name": "stdout",
          "output_type": "stream",
          "text": "22\n"
        }
      ],
      "execution_count": 5
    },
    {
      "id": "97fdb509-fe84-4e93-9dd8-3402f52b46d8",
      "cell_type": "markdown",
      "source": "<mark>Exercise 2</mark>\n\nThe formula for computing the final amount $A$ if one is earning compund interest is given by:\n\n$$\nA = P(1 + \\frac{r}{n})^{nt}\n$$\n\nwhere:\n\n- $P$ = principal amount (initial investment)\n- $r$ = annual nominal interest rate\n- $n$ = number of times the interest is computed per year\n- $t$ = number of years\n\nWrite a Python program that assigns the principal amount of $10,000 to variable `P`, assign to `n` the value 12, and assign to `r` the interest rate of 8%. Then have the program prompt the user for the number of years `t` that the money will be compounded for. Calculate and print the final amount after `t` years.",
      "metadata": {}
    },
    {
      "id": "e9fcaae9-16bc-445b-bdf2-463ed4027b78",
      "cell_type": "code",
      "source": "# TODO: write your solution here\nP = 10000\nn = 12\nr = 0.08",
      "metadata": {
        "trusted": true
      },
      "outputs": [],
      "execution_count": 6
    },
    {
      "id": "b41fa759-f357-4e73-a1ae-3058364b059c",
      "cell_type": "code",
      "source": "t = await input('Enter number of years (#):')",
      "metadata": {
        "trusted": true
      },
      "outputs": [
        {
          "output_type": "stream",
          "name": "stdin",
          "text": "Enter number of years (#): 15\n"
        }
      ],
      "execution_count": 7
    },
    {
      "id": "2106875e-95f6-4f83-b9a3-29ad2ac3ff77",
      "cell_type": "code",
      "source": "A = P*(1 + (r/n))**(n*int(t))\nprint(\"Final amount after \", t, \" = \", A)",
      "metadata": {
        "trusted": true
      },
      "outputs": [
        {
          "name": "stdout",
          "output_type": "stream",
          "text": "Final amount after  15  =  33069.21477410005\n"
        }
      ],
      "execution_count": 9
    },
    {
      "id": "de868028-3f03-44cb-9dad-568b8d8007a4",
      "cell_type": "markdown",
      "source": "### Indexing\n\nIt is helpful to think of a string as an ordered sequence. Each element in the sequence can be accessed using an index represented by the array of numbers.",
      "metadata": {}
    },
    {
      "id": "1c77f074-18ad-49a8-b612-50202ce5e446",
      "cell_type": "code",
      "source": "my_name = input(\"Enter your name\")",
      "metadata": {},
      "outputs": [],
      "execution_count": null
    },
    {
      "id": "05bdeade-2953-45df-bc6f-8d4748c05c32",
      "cell_type": "code",
      "source": "print(\"First character:\", my_name[0])\nprint(\"Sixth character:\", my_name[5])",
      "metadata": {},
      "outputs": [],
      "execution_count": null
    },
    {
      "id": "a25906b5-daa6-476e-80c8-d22e6f71b38f",
      "cell_type": "markdown",
      "source": "### Negative Indexing\n\nWe can also use negative indexing with strings. Negative index can help us to count the element from the end of the string. The last element is given by the index -1.",
      "metadata": {}
    },
    {
      "id": "81120592-250f-47e3-9abb-22e7456b6d2f",
      "cell_type": "code",
      "source": "print(\"Last character:\", my_name[-1])",
      "metadata": {},
      "outputs": [],
      "execution_count": null
    },
    {
      "id": "cfb01e1e-8e74-4de5-8f5a-c01d5fe439c2",
      "cell_type": "markdown",
      "source": "We can find the number of characters in a string by using `len`.",
      "metadata": {}
    },
    {
      "id": "a6536421-bfdd-4730-bc7a-5e42ebdb0f92",
      "cell_type": "code",
      "source": "print(\"My name has a length of\", len(my_name))",
      "metadata": {},
      "outputs": [],
      "execution_count": null
    },
    {
      "id": "f81bbfe8-bc87-440f-a798-999acb1cbd3b",
      "cell_type": "markdown",
      "source": "### Slicing\n\nWe can obtain multiple characters from a string using **slicing**. When taking the slice, the first number means the index (remember, indices start at 0), and the second number means the index to stop at (but whose element is not included!).",
      "metadata": {}
    },
    {
      "id": "185e8d34-cc95-441c-a993-654ad11d9545",
      "cell_type": "code",
      "source": "my_favorite_food = \"tofu pad thai with peanut sauce\"\nprint(my_favorite_food[0:4])\nprint(my_favorite_food[8:12])",
      "metadata": {},
      "outputs": [],
      "execution_count": null
    },
    {
      "id": "60a322f5-ab5b-4a12-a621-471e36e67dac",
      "cell_type": "markdown",
      "source": "We can also input a **stride value** which indicates how many elements to \"skip over\".",
      "metadata": {}
    },
    {
      "id": "5b0bc401-6fd6-43b6-8b91-42d5cb9a1360",
      "cell_type": "code",
      "source": "# get every second element\n# the elements at index 0, 2, 4, ...\nprint(my_favorite_food[::2])",
      "metadata": {},
      "outputs": [],
      "execution_count": null
    },
    {
      "id": "197878a0-cde9-4e8d-9e3d-205b446aeb0c",
      "cell_type": "markdown",
      "source": "We can also incorporate slicing with the stride.",
      "metadata": {}
    },
    {
      "id": "1a5cbb6c-4d46-4ef6-8d84-7f2374660b55",
      "cell_type": "code",
      "source": "# get every third element in the range from index 0 to index 12\nprint(my_favorite_food[0:13:3])",
      "metadata": {},
      "outputs": [],
      "execution_count": null
    },
    {
      "id": "f3d1a7da-71f6-449f-a3a5-0fbe4b9d0dc0",
      "cell_type": "markdown",
      "source": "We can concatenate or combine strings by using the `+` symbol, and the result is a new string that is a combination of both.",
      "metadata": {}
    },
    {
      "id": "dc0eaee7-d415-4fd5-bb7d-c5936b6c1294",
      "cell_type": "code",
      "source": "statement = my_favorite_food + \" is the best\"\nprint(statement)",
      "metadata": {},
      "outputs": [],
      "execution_count": null
    },
    {
      "id": "669aa4b4-bfc9-494b-aee7-d60d7443896b",
      "cell_type": "markdown",
      "source": "To replicate values of a string we simply multiply the string by the number of times we would like to replicate it.",
      "metadata": {}
    },
    {
      "id": "64ffe3d0-6afc-40d6-abe1-8b9eb5fa4c52",
      "cell_type": "code",
      "source": "number = int(input(\"Enter a number\"))",
      "metadata": {},
      "outputs": [],
      "execution_count": null
    },
    {
      "id": "77aa8f45-ff46-4a93-84d0-c4a6e468b75e",
      "cell_type": "code",
      "source": "print(number * my_favorite_food)",
      "metadata": {},
      "outputs": [],
      "execution_count": null
    },
    {
      "id": "d5939f1c-1be5-44ec-9561-f5163f65e93b",
      "cell_type": "markdown",
      "source": "<mark>Exercise 3</mark>\n\nUse slicing to print out the first three elements in the variable.",
      "metadata": {}
    },
    {
      "id": "21acfa22-0cf5-4906-8173-d01ddba94ff0",
      "cell_type": "code",
      "source": "letters = \"ABCDEFG\"\n# TODO: write your solution here\nprint(letters[0:3])",
      "metadata": {
        "trusted": true
      },
      "outputs": [
        {
          "name": "stdout",
          "output_type": "stream",
          "text": "ABC\n"
        }
      ],
      "execution_count": 11
    },
    {
      "id": "f80b6c5c-4753-4a34-81ea-386803a21e25",
      "cell_type": "markdown",
      "source": "<mark>Exercise 4</mark>\n\nUse a stride value to print out every third character for the string.",
      "metadata": {}
    },
    {
      "id": "91b23fdf-da74-43e5-9952-10caca027b22",
      "cell_type": "code",
      "source": "gibberish = 'uTbLugaCYVATvZRovXUp'\n# TODO: write your solution here\nprint(gibberish[::3])",
      "metadata": {
        "trusted": true
      },
      "outputs": [
        {
          "name": "stdout",
          "output_type": "stream",
          "text": "uLaVvoU\n"
        }
      ],
      "execution_count": 13
    },
    {
      "id": "db86f1ec-54b2-41b4-8bb0-23972fb80ccb",
      "cell_type": "markdown",
      "source": "<mark>Exercise 5</mark>\n\nThere are many, many string methods in Python that can be used to manipulate the data. Read through [the documentation](https://docs.python.org/3/library/stdtypes.html#string-methods) and find the necessary functions that will do the following:\n\n- display the story starting from the word `snow` in lowercase\n- compute how many times the name `Mary` shows up in the story\n- replace the name `Mary` with yours and display the alternate story",
      "metadata": {}
    },
    {
      "id": "70eec916-d94c-42ff-a03a-62a232067f74",
      "cell_type": "code",
      "source": "story = \"Mary had a little lamb Little lamb, little lamb Mary had a little lamb \\\nIts fleece was white as snow And everywhere that Mary went Mary went, Mary went \\\nEverywhere that Mary went The lamb was sure to go\"\n# TODO: write your solution here\n\n# what are the indexes in the string? does it include spaces?\nlowercase_story = story[95:220].lower()\nprint(lowercase_story)\n\nprint(story.count(\"Mary\"))\nprint(story.replace(\"Mary\", \"Lena\"))",
      "metadata": {
        "trusted": true
      },
      "outputs": [
        {
          "name": "stdout",
          "output_type": "stream",
          "text": "snow and everywhere that mary went mary went, mary went everywhere that mary went the lamb was sure to go\n6\nLena had a little lamb Little lamb, little lamb Lena had a little lamb Its fleece was white as snow And everywhere that Lena went Lena went, Lena went Everywhere that Lena went The lamb was sure to go\n"
        }
      ],
      "execution_count": 29
    },
    {
      "id": "d5ebfe60-a211-4486-aa44-9e4e0ad7d258",
      "cell_type": "markdown",
      "source": "## Control Flow\n\nOne of the most powerful features of programming languages is **branching**: the ability to make decisions and execute a different set of statements based on whether one or more conditions are true.",
      "metadata": {}
    },
    {
      "id": "eb452ca4-f2da-47ac-8bd5-af57a09aa905",
      "cell_type": "markdown",
      "source": "### The `if` Statement\n\nIn Python, branching is implemented using the `if` statement, which is written as follows:\n\n```Python\nif condition:\n    statement1\n    statement2\n```\n\nThe `condition` can be a value, variable or expression. If the condition evaluates to `True`, then the statements within the `if` block are executed. Notice the four spaces before `statement1`, `statement2`, etc. The spaces inform Python that these statements are associated with the `if` statement above. This technique of structuring code by adding spaces is called *indentation*.\n\nPython relies heavily on indentation to define code structure. This makes Python code easy to read and understand. You can run into problems if you don’t use indentation properly. Indent your code by placing the cursor at the start of the line and pressing the <kbd>Tab</kbd> key once to add 4 spaces. Pressing <kbd>Tab</kbd> again will indent the code further by 4 more spaces, and press <kbd>Shift</kbd> + <kbd>Tab</kbd> will reduce the indentation by 4 spaces.\n\nFor example, let’s write some code to check and print a message if a given number is even.",
      "metadata": {}
    },
    {
      "id": "b44ef1da-2987-4d62-901c-bd355a924ba6",
      "cell_type": "code",
      "source": "a_number = 34\nif a_number % 2 == 0:\n    print(\"We're inside an if block\")\n    print('The given number {} is even.'.format(a_number))",
      "metadata": {},
      "outputs": [],
      "execution_count": null
    },
    {
      "id": "d17f67fc-109d-4a4d-b3cf-4717cc30e4c9",
      "cell_type": "markdown",
      "source": "### The `else` Statement\n\nWe may want to print a different message if the number is not even in the above example. This can be done by adding the `else` statement. It is written as follows:\n\n```Python\nif condition:\n    statement1\n    statement2\nelse:\n    statement4\n    statement5\n```\n\nIf `condition` evaluates to `True`, the statements in the `if` block are executed. If it evaluates to `False`, the statements in the `else` block are executed.",
      "metadata": {}
    },
    {
      "id": "ba245fe6-0a3c-4564-9824-94b704e8d59d",
      "cell_type": "code",
      "source": "if a_number % 2 == 0:\n    print('The given number {} is even.'.format(a_number))\nelse:\n    print('The given number {} is odd.'.format(a_number))",
      "metadata": {},
      "outputs": [],
      "execution_count": null
    },
    {
      "id": "3780ffcb-e3ac-4158-813a-bf80c759bbfe",
      "cell_type": "markdown",
      "source": "### The `elif` Statement\n\nPython also provides an `elif` statement (short for *else if*) to chain a series of conditional blocks. The conditions are evaluated one by one. For the first condition that evaluates to `True`, the block of statements below it is executed. The remaining conditions and statements are not evaluated.",
      "metadata": {}
    },
    {
      "id": "16f9c9e2-430d-4074-b42b-bc0d7a36037d",
      "cell_type": "code",
      "source": "today = 'Thursday'\nif today == 'Sunday':\n    print(\"Today is the day of the sun.\")\nelif today == 'Monday':\n    print(\"Today is the day of the moon.\")\nelif today == 'Tuesday':\n    print(\"Today is the day of Tyr, the god of war.\")\nelif today == 'Wednesday':\n    print(\"Today is the day of Odin, the supreme diety.\")\nelif today == 'Thursday':\n    print(\"Today is the day of Thor, the god of thunder.\")\nelif today == 'Friday':\n    print(\"Today is the day of Frigga, the goddess of beauty.\")\nelif today == 'Saturday':\n    print(\"Today is the day of Saturn, the god of fun and feasting.\")",
      "metadata": {},
      "outputs": [],
      "execution_count": null
    },
    {
      "id": "504a42b2-dc2c-4540-9a69-907c7f643f62",
      "cell_type": "markdown",
      "source": "You can also include an `else` statement at the end of a chain. The code within the `else` block is evaluated when none of the conditions hold true.",
      "metadata": {}
    },
    {
      "id": "3c520ca0-84da-4d35-8fab-83b79fb97333",
      "cell_type": "code",
      "source": "a_number = 49\nif a_number % 2 == 0:\n    print('{} is divisible by 2'.format(a_number))\nelif a_number % 3 == 0:\n    print('{} is divisible by 3'.format(a_number))\nelif a_number % 5 == 0:\n    print('{} is divisible by 5'.format(a_number))\nelse:\n    print('All checks failed!')\n    print('{} is not divisible by 2, 3 or 5'.format(a_number))",
      "metadata": {},
      "outputs": [],
      "execution_count": null
    },
    {
      "id": "57e84e7f-dc5f-4c2c-add6-4a8895680afe",
      "cell_type": "markdown",
      "source": "### Nested Conditional Statements\n\nThe code inside an `if` block can also include an `if` statement inside it. This pattern is called **nesting** and is used to check for another condition after a particular condition holds true.",
      "metadata": {}
    },
    {
      "id": "ea8f5fc2-2174-4f30-8cb4-ea5d81a4aee1",
      "cell_type": "code",
      "source": "a_number = 15\nif a_number % 2 == 0:\n    print(\"{} is even\".format(a_number))\n    if a_number % 3 == 0:\n        print(\"{} is also divisible by 3\".format(a_number))\n    else:\n        print(\"{} is not divisibule by 3\".format(a_number))\nelse:\n    print(\"{} is odd\".format(a_number))\n    if a_number % 5 == 0:\n        print(\"{} is also divisible by 5\".format(a_number))\n    else:\n        print(\"{} is not divisibule by 5\".format(a_number))",
      "metadata": {},
      "outputs": [],
      "execution_count": null
    },
    {
      "id": "d07dde03-1231-4ed1-bae2-5f9de13476ba",
      "cell_type": "markdown",
      "source": "### Conditional Expression\n\nA frequent use case of the `if` statement involves testing a condition and setting a variable's value based on the condition. Python provides a shorter syntax, which allows writing such conditions in a single line of code. It is known as a **conditional expression**, sometimes also referred to as a *ternary operator*. It has the following syntax:\n\n```Python\nx = true_value if condition else false_value\n```\n\nIt has the same behavior as the following `if-else` block:\n\n```Python\nif condition:\n    x = true_value\nelse:\n    x = false_value\n```",
      "metadata": {}
    },
    {
      "id": "af4ea394-3502-413c-842c-3bcd94e80291",
      "cell_type": "code",
      "source": "parity = 'even' if a_number % 2 == 0 else 'odd'\nprint('The number {} is {}.'.format(a_number, parity))",
      "metadata": {},
      "outputs": [],
      "execution_count": null
    },
    {
      "id": "6af3ca21-51d5-43f6-8ea4-41ec83d1e84a",
      "cell_type": "markdown",
      "source": "### The `pass` Statement\n\nThere must be at least one statement in every `if` and `elif` block. We can use the `pass` statement to do nothing and avoid getting an error.",
      "metadata": {}
    },
    {
      "id": "425f2eda-9687-4f80-9228-17f4a8de05ff",
      "cell_type": "code",
      "source": "if a_number % 2 == 0:\n    pass\nelif a_number % 3 == 0:\n    print('{} is divisible by 3 but not divisible by 2'.format(a_number))",
      "metadata": {},
      "outputs": [],
      "execution_count": null
    },
    {
      "id": "2ad68419-c067-4718-a693-c1d6b1bdd884",
      "cell_type": "markdown",
      "source": "<mark>Exercise 6</mark>\n\nWrite code that gets the user's hourly pay rate and number of hours worked this week. Calculate their total pay for the week. If they enter a non-positive number for either input, display an error message. If their total pay exceeds $10,000, print a message to remind them to pay their taxes.",
      "metadata": {}
    },
    {
      "id": "4ac5cd39-ef52-4855-b0b8-948f6f25feed",
      "cell_type": "code",
      "source": "# TODO: write your solution here\nuser_pay = await input(\"Enter hourly pay rate: \")",
      "metadata": {
        "trusted": true
      },
      "outputs": [
        {
          "output_type": "stream",
          "name": "stdin",
          "text": "Enter hourly pay rate:  35\n"
        }
      ],
      "execution_count": 1
    },
    {
      "id": "af44217b-fae5-4c2a-b2c8-e66304ff23ec",
      "cell_type": "code",
      "source": "user_hours = await input(\"Enter number of hours worked this week: \")",
      "metadata": {
        "trusted": true
      },
      "outputs": [
        {
          "output_type": "stream",
          "name": "stdin",
          "text": "Enter number of hours worked this week:  15\n"
        }
      ],
      "execution_count": 2
    },
    {
      "id": "c78b2478-7d67-48d0-8887-c6558723bb02",
      "cell_type": "code",
      "source": "hours_worked = float(user_pay) * float(user_hours)\nprint(\"Total pay for this week: \", hours_worked)\n\nif float(user_pay) < 0 or float(user_hours) < 0:\n    print(\"ERROR: Incorrect input\")\n    \nelif hours_worked > 10000:\n    print(\"Remember to pay your taxes! >:O\")\n",
      "metadata": {
        "trusted": true
      },
      "outputs": [
        {
          "name": "stdout",
          "output_type": "stream",
          "text": "Total pay for this week:  525.0\n"
        }
      ],
      "execution_count": 7
    },
    {
      "id": "879459bc-2273-4009-8790-cf1dc4256d99",
      "cell_type": "markdown",
      "source": "### Iteration with `while` Loops\n\nAnother powerful feature of programming languages, closely related to branching, is running one or more statements multiple times. This feature is often referred to as **iteration** or **looping**.\n\n`while` loops have the following syntax:\n\n```Python\nwhile condition:\n    statement1\n    statement2\n    statement3\n```\n\nStatements in the code block under `while` are executed repeatedly as long as the condition evaluates to `True`. Generally, one of the statements under `while` makes some change to a variable that causes the condition to evaluate to `False` after a certain number of iterations.\n\nLet’s try to calculate the factorial of 10 using a `while` loop. The factorial of a number $n$ is the product (multiplication) of all the numbers from 1 to $n$, i.e.,\n\n$$1\\times2\\times3\\times\\dots\\times(n-2)\\times(n-1)\\times n$$",
      "metadata": {}
    },
    {
      "id": "edd4a59f-579d-433b-a9ee-69b6a8851939",
      "cell_type": "code",
      "source": "result = 1\ni = 1\n\nwhile i <= 10:\n    result = result * i\n    i = i + 1\n\nprint(f'The factorial of 10 is: {result}') # uses a formatted string or f-string, which allows variables to be included in the string, marked by curly braces",
      "metadata": {},
      "outputs": [],
      "execution_count": null
    },
    {
      "id": "db8672af-cb30-4be7-b1f8-8e5f830c029b",
      "cell_type": "markdown",
      "source": "### Infinite Loops\n\nSuppose the condition in a `while` loop always holds true. In that case, Python repeatedly executes the code within the loop forever, and the execution of the code never completes. This situation is called an *infinite loop*. It generally indicates that you've made a mistake in your code. For example, you may have provided the wrong condition or forgotten to update a variable within the loop, eventually falsifying the condition.\n\nIf your code is stuck in an infinite loop during execution, just press the *Stop* symbol on the toolbar or select <kbd>Kernel</kbd> then <kbd>Interrupt Kernel</kbd> from the menu bar. This will interrupt the execution of the code.\n\nThe following two cells both lead to infinite loops and need to be interrupted.",
      "metadata": {}
    },
    {
      "id": "66100273-1131-4ecb-bbb1-e3f1fa9116b9",
      "cell_type": "code",
      "source": "# INFINITE LOOP - INTERRUPT THIS CELL\n\nresult = 1\ni = 1\n\nwhile i <= 100:\n    result = result * i\n    # forgot to increment i",
      "metadata": {},
      "outputs": [],
      "execution_count": null
    },
    {
      "id": "d6c6b04d-e5f6-4807-a3f6-e84cb4ec9645",
      "cell_type": "markdown",
      "source": "### `break` and `continue` Statements\n\nIn Python, `break` and `continue` statements can alter the flow of a normal loop.\n\nWe can use the `break` statement within the loop's body to immediately stop the execution and break out of the loop.",
      "metadata": {}
    },
    {
      "id": "920117c4-5f4e-4df2-bf6e-4cee749a7cd6",
      "cell_type": "code",
      "source": "i = 1\nresult = 1\n\nwhile i <= 100:\n    result *= i\n    if i == 42:\n        print('Magic number 42 reached! Stopping execution..')\n        break\n    i += 1\n    \nprint('i:', i)\nprint('result:', result)",
      "metadata": {},
      "outputs": [],
      "execution_count": null
    },
    {
      "id": "5efa1340-abd8-4ed7-8102-d6d28c79ffb0",
      "cell_type": "markdown",
      "source": "With the `continue` statement, if the condition evaluates to `True`, then the loop will move to the next iteration.",
      "metadata": {}
    },
    {
      "id": "956c24a5-15ad-43dd-9e5e-b36108cac58d",
      "cell_type": "code",
      "source": "i = 1\nresult = 1\n\nwhile i < 8:\n    i += 1\n    if i % 2 == 0:\n        print(f'Skipping {i}')\n        continue\n    print(f'Multiplying with {i}')\n    result = result * i\n    \nprint('i:', i)\nprint('result:', result)",
      "metadata": {},
      "outputs": [],
      "execution_count": null
    },
    {
      "id": "4709c143-8efe-4f8a-b455-7663f8aa6660",
      "cell_type": "markdown",
      "source": "### Iteration with `for` Loops\n\nA `for` loop is used for iterating or looping over sequences, like strings. `for` loops have the following syntax:\n\n```Python\nfor value in sequence:\n    statement1\n    statement2\n    statement3\n```\n\nThe statements within the loop are executed once for each element in sequence.",
      "metadata": {}
    },
    {
      "id": "11daebab-4733-4180-8313-6b6532f99102",
      "cell_type": "code",
      "source": "for char in 'Monday':\n    print(char)",
      "metadata": {},
      "outputs": [],
      "execution_count": null
    },
    {
      "id": "bbe79548-36d6-4a69-bf2b-990f8c3b0b16",
      "cell_type": "markdown",
      "source": "### Iterating using `range`\n\nThe `range` function is used to create a sequence of numbers that can be iterated over using a `for` loop. It can be used in 3 ways:\n\n- `range(n)` - Creates a sequence of numbers from 0 to $n-1$\n- `range(a, b)` - Creates a sequence of numbers from $a$ to $b-1$\n- `range(a, b, step)` - Creates a sequence of numbers from $a$ to $b-1$ with increments of $step$",
      "metadata": {}
    },
    {
      "id": "89a01f87-300e-4e40-a065-733be398cf46",
      "cell_type": "code",
      "source": "for i in range(4):\n    print(i)",
      "metadata": {},
      "outputs": [],
      "execution_count": null
    },
    {
      "id": "a04fd8a8-08ce-4599-954e-6cdec5a2ccd9",
      "cell_type": "code",
      "source": "for i in range(3, 8):\n    print(i)",
      "metadata": {},
      "outputs": [],
      "execution_count": null
    },
    {
      "id": "dac48283-b2e4-48b9-a71d-7b4145be9bc5",
      "cell_type": "code",
      "source": "for i in range(3, 14, 4):\n    print(i)",
      "metadata": {},
      "outputs": [],
      "execution_count": null
    },
    {
      "id": "cf03e417-d74b-469e-bc8b-933e9e5a1d03",
      "cell_type": "markdown",
      "source": "<mark>Exercise 7</mark>\n\nWrite a program that uses a loop to print the following pattern:\n\n```\n     1 \n    1 2 \n   1 2 3 \n  1 2 3 4 \n 1 2 3 4 5 \n```",
      "metadata": {}
    },
    {
      "id": "84699413-7795-4b32-b53f-ac594f161312",
      "cell_type": "code",
      "source": "# TODO: write your solution here\nn = 6\nfor i in range(1, n):\n    print(' ' * (n-i))\n    for j in range(1, i+1):\n        print(j, end=' ')\n",
      "metadata": {
        "trusted": true
      },
      "outputs": [
        {
          "name": "stdout",
          "output_type": "stream",
          "text": "     \n1     \n1 2    \n1 2 3   \n1 2 3 4  \n1 2 3 4 5 "
        }
      ],
      "execution_count": 3
    },
    {
      "id": "b696f0a5-6ded-4596-8b1d-18d5bda662a6",
      "cell_type": "markdown",
      "source": "## Functions\n\nA function is a piece of code that has a specific purpose or performs a specific task. To define a function in Python, we use the `def` keyword followed by the name of the function, then the body.\n\nIn general, the syntax is:\n\n```Python\ndef name_of_function():\n    statement1\n    statement2\n    statement3\n```\n\nLook at the function defined below. It asks the user to input a number, and prints whether the number is odd or even.",
      "metadata": {}
    },
    {
      "id": "dce88300-482d-43f4-bd35-99e0d22b1e7c",
      "cell_type": "code",
      "source": "def odd_even():           \n    num = int(input(\"Enter an integer:\"))\n    if num % 2 == 0:\n        print(\"Even\")\n    else:\n        print(\"Odd\")\n        \nprint(\"This line is not a part of the function as it is not indented\")",
      "metadata": {},
      "outputs": [],
      "execution_count": null
    },
    {
      "id": "43edd5e9-4732-4126-9980-30e07fd553b9",
      "cell_type": "markdown",
      "source": "All the lines within the function definition are indented. The indentation shows the lines of code that belong to the function. When the indentation stops, the function definition is considered to have ended.\n\nWhenever the user wishes to input a number and print whether it is odd or even, they can call the function defined above by its name as follows.",
      "metadata": {}
    },
    {
      "id": "28b07c88-2605-4101-8513-1f3622866dbd",
      "cell_type": "code",
      "source": "odd_even()",
      "metadata": {},
      "outputs": [],
      "execution_count": null
    },
    {
      "id": "b01c2eb8-ccd5-44e0-867a-d0e66b43aaeb",
      "cell_type": "markdown",
      "source": "### Parameters and Arguments\n\nNote that the function defined above needs no input when called. However, sometimes we may wish to define a function that takes input(s), and performs computations on the inputs to produce an output. These inputs are called **parameters** of a function. When a function is called, the values of these parameters must be specified as **arguments** to the function.\n\nLet us change the previous example to write a function that takes an integer as an input argument, and prints whether it is odd or even:",
      "metadata": {}
    },
    {
      "id": "9d46df85-27ba-498d-b52c-3fe7a0a591e4",
      "cell_type": "code",
      "source": "def odd_even(num):           \n    if num % 2 == 0:\n        print(\"Even\")\n    else:\n        print(\"Odd\")",
      "metadata": {},
      "outputs": [],
      "execution_count": null
    },
    {
      "id": "81b4e731-1585-458e-8cb2-f4a69af8e6d9",
      "cell_type": "markdown",
      "source": "We can use the function whenever we wish to find a number is odd or even. For example, if we wish to find that a number input by the user is odd or even, we can call the function with the user input as its argument.",
      "metadata": {}
    },
    {
      "id": "de716a39-3e86-42a3-aa74-71d7359b8a9b",
      "cell_type": "code",
      "source": "number = int(input(\"Enter an integer:\"))",
      "metadata": {},
      "outputs": [],
      "execution_count": null
    },
    {
      "id": "e0c27872-6bcc-48d1-af40-967400f17bc6",
      "cell_type": "code",
      "source": "odd_even(number)",
      "metadata": {},
      "outputs": [],
      "execution_count": null
    },
    {
      "id": "9694505e-9927-42b1-bfb5-98f8b95b1d60",
      "cell_type": "markdown",
      "source": "Note that the above function needs an argument as per the function definition. It will produce an error if called without an argument:",
      "metadata": {}
    },
    {
      "id": "5b4b4fed-4e86-4fbc-a447-f143ced755f3",
      "cell_type": "code",
      "source": "odd_even()",
      "metadata": {},
      "outputs": [],
      "execution_count": null
    },
    {
      "id": "1196b560-1955-49df-8d6d-707f017ef530",
      "cell_type": "markdown",
      "source": "### Default Argument Values\n\nTo avoid errors as above, sometimes is a good idea to assign a default value to the parameter in the function definition.",
      "metadata": {}
    },
    {
      "id": "4441663e-213c-4e9c-af35-942e487e4423",
      "cell_type": "code",
      "source": "def odd_even(num=0):           \n    if num % 2 == 0:\n        print(\"Even\")\n    else:\n        print(\"Odd\")",
      "metadata": {},
      "outputs": [],
      "execution_count": null
    },
    {
      "id": "f43f8e06-17a7-4410-9acf-ddfa1ea00b22",
      "cell_type": "markdown",
      "source": "Now, we can call the function without an argument. The function will use the default value of the parameter specified in the function definition.",
      "metadata": {}
    },
    {
      "id": "25524de1-5685-475e-a561-f86b1f24a1ec",
      "cell_type": "code",
      "source": "odd_even()",
      "metadata": {},
      "outputs": [],
      "execution_count": null
    },
    {
      "id": "1c5a3c0c-c99e-463e-afcf-9509fe9e103d",
      "cell_type": "markdown",
      "source": "### Multiple Parameters\n\nA function can have as many parameters as needed. Multiple parameters/arguments are separated by commas. For example, below is a function that inputs two strings, concatenates them with a space in between, and prints the output.",
      "metadata": {}
    },
    {
      "id": "4b9e6249-22bc-4374-9058-2b8c0434b666",
      "cell_type": "code",
      "source": "def concat_string(string1, string2):\n    print(string1 + ' ' + string2)\n\nconcat_string(\"Hi\", \"there\")",
      "metadata": {},
      "outputs": [],
      "execution_count": null
    },
    {
      "id": "58b4d0b1-3b9f-4d30-923e-b117d7beed84",
      "cell_type": "markdown",
      "source": "<mark>Exercise 8</mark>\n\nWrite a function that accepts a string as a parameter and arranges the characters so that all lowercase letters should come first.\n\nFor example, if the input is `'The qUick Brown Fox'`, the function should print:\n\n```\nOriginal string: The qUick Brown Fox\nConverted string: heqickrownoxTUBF\n```",
      "metadata": {}
    },
    {
      "id": "bd4834a7-b9d7-49b2-af4f-7fb6fd0672bd",
      "cell_type": "code",
      "source": "# TODO: write your solution here\ndef rearrange_lowercase_first(input_str):\n    lowercase_letters = \"\"\n    uppercase = \"\"\n\n    for char in input_str:\n        if char.islower():\n            lowercase_letters += char\n        else:\n            uppercase += char\n    return lowercase_letters + uppercase\n\nstr1 = 'The qUick Brown Fox'\nconverted_str = rearrange_lowercase_first(str1)\n\nprint(\"Original string:\", str1)\nprint(\"Converted string:\", converted_str)",
      "metadata": {
        "trusted": true
      },
      "outputs": [
        {
          "name": "stdout",
          "output_type": "stream",
          "text": "Original string: The qUick Brown Fox\nConverted string: heqickrownoxT U B F\n"
        }
      ],
      "execution_count": 4
    },
    {
      "id": "0b8d48e1-914e-49c0-a990-fb38ac7e9b7c",
      "cell_type": "markdown",
      "source": "### Functions That Return\n\nUntil now, we saw functions that print text. However, the functions did not return any object. For example, the function `odd_even()` prints whether the number is odd or even. However, we did not save this information. In future, we may need to use the information that whether the number was odd or even. Thus, typically, we return an object from the function definition, which consists of the information we may need in the future.",
      "metadata": {}
    },
    {
      "id": "cdc9260f-cddc-4cac-8d11-43edb4a486ef",
      "cell_type": "code",
      "source": "def odd_even(num=0):\n    if num % 2 == 0:\n        return(\"Even\")\n    else:\n        return(\"Odd\")",
      "metadata": {},
      "outputs": [],
      "execution_count": null
    },
    {
      "id": "f1436ee4-96a7-44fb-a319-5ace75345734",
      "cell_type": "markdown",
      "source": "The function above returns a string `\"Odd\"` or `\"Even\"`, depending on whether the number is odd or even. This result can be stored in a variable, which can be used later.",
      "metadata": {}
    },
    {
      "id": "b98abca3-1a1a-402b-a286-a900ff2d7b99",
      "cell_type": "code",
      "source": "response = odd_even(3)\nprint(response)",
      "metadata": {},
      "outputs": [],
      "execution_count": null
    },
    {
      "id": "322aba9e-c630-4b2a-9aa8-4a9c4e947abf",
      "cell_type": "markdown",
      "source": "The variable response now refers to the object where the string `\"Odd\"` or `\"Even\"` is stored. Thus, the result of the computation is stored, and the variable can be used later on in the program. Note that the control flow exits the function as soon as the first `return` statement is executed.",
      "metadata": {}
    },
    {
      "id": "822f2e86-dc5e-4058-83bd-5961ea308332",
      "cell_type": "markdown",
      "source": "### Built-in Python Functions\n\nThere are [many, many, many functions](https://docs.python.org/3/library/functions.html) that come built-in with Python. Familiarity with these functions will make writing solutions in Python easier. You are encouraged to look through that list and try out them out.\n\nFor example, the built-in function `max()` computes the max of numeric values.",
      "metadata": {}
    },
    {
      "id": "6ef7e546-bb56-4a3c-9c85-6ed1a7eec867",
      "cell_type": "code",
      "source": "max(1,2,3)",
      "metadata": {},
      "outputs": [],
      "execution_count": null
    },
    {
      "id": "ecffef47-faed-4060-ad5c-f4e114a2107f",
      "cell_type": "markdown",
      "source": "Another example is the `round()` function that rounds up floating point numbers.",
      "metadata": {}
    },
    {
      "id": "83667345-39d5-4aa5-aef1-5cbcef69ab92",
      "cell_type": "code",
      "source": "round(3.7)",
      "metadata": {},
      "outputs": [],
      "execution_count": null
    },
    {
      "id": "e675c07e-1c94-42d7-8ea8-6952669df94b",
      "cell_type": "markdown",
      "source": "### Python Libraries\n\nOther than the built-in functions, Python has [libraries](https://docs.python.org/3/library/index.html) that contain several useful functions. As an example: [generating random numbers](https://docs.python.org/3/library/random.html) is very useful in Python for performing simulations. The library `random` is used to generate random numbers such as integers, real numbers based on different probability distributions, etc. We can use the `import` keyword to access the functions in the `random` library for use in our program.\n\nBelow is an example of using the `randint()` function of the library for generating random numbers inclusively between a and b, where a and b are integers.",
      "metadata": {}
    },
    {
      "id": "0cb7980c-cc1b-4c79-a930-41c33f831c8d",
      "cell_type": "code",
      "source": "import random\nrandom.randint(5, 10)",
      "metadata": {},
      "outputs": [],
      "execution_count": null
    },
    {
      "id": "a66e76a5-7172-4243-86dd-6a9efcf64122",
      "cell_type": "markdown",
      "source": "<mark>Exercise 9</mark>\n\nGenerate a random integer between -8 and 8, inclusive. Do this 10,000 times. Find the mean of all the 10,000 random numbers generated.",
      "metadata": {}
    },
    {
      "id": "6feb7dc4-efe6-46d2-bb4f-e9ecaa32a9df",
      "cell_type": "code",
      "source": "# TODO: write your solution here\nimport random\nrandom.randint(-8,8)",
      "metadata": {
        "trusted": true
      },
      "outputs": [
        {
          "execution_count": 5,
          "output_type": "execute_result",
          "data": {
            "text/plain": "4"
          },
          "metadata": {}
        }
      ],
      "execution_count": 5
    },
    {
      "id": "701cbf5d-d8a9-4a77-9326-7530f4a370e2",
      "cell_type": "code",
      "source": "",
      "metadata": {
        "trusted": true
      },
      "outputs": [],
      "execution_count": null
    },
    {
      "id": "f1901ed0-9f73-48ff-b1c3-2a3f0be7b517",
      "cell_type": "code",
      "source": "",
      "metadata": {
        "trusted": true
      },
      "outputs": [],
      "execution_count": null
    }
  ]
}