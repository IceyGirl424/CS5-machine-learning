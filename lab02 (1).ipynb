{
  "metadata": {
    "kernelspec": {
      "name": "python",
      "display_name": "Python (Pyodide)",
      "language": "python"
    },
    "language_info": {
      "codemirror_mode": {
        "name": "python",
        "version": 3
      },
      "file_extension": ".py",
      "mimetype": "text/x-python",
      "name": "python",
      "nbconvert_exporter": "python",
      "pygments_lexer": "ipython3",
      "version": "3.8"
    }
  },
  "nbformat_minor": 5,
  "nbformat": 4,
  "cells": [
    {
      "id": "73a8b638-a8c3-4d1a-b47c-ed865f7fe6ee",
      "cell_type": "markdown",
      "source": "# Lab 2\n\n**Due Date**: 1/29/25 by 8pm on Canvas",
      "metadata": {}
    },
    {
      "id": "4c590429-564a-4e21-aa24-c884394e9562",
      "cell_type": "markdown",
      "source": "## Lists\n\nA list is a sequenced collection of different objects such as integers, strings, and other lists as well. To create a list, type the elements within square brackets `[ ]`, separated by commas.",
      "metadata": {}
    },
    {
      "id": "fd20813d-c1f0-408e-b493-5d7c28d97f1b",
      "cell_type": "code",
      "source": "my_list = ['Sally', 10.1, 1982]\nprint(my_list)",
      "metadata": {},
      "outputs": [],
      "execution_count": null
    },
    {
      "id": "78e53aaa-0f8b-40a2-89d3-55cc419e306a",
      "cell_type": "markdown",
      "source": "### Indexing\n\nThe address of each element within a list is called an **index**. An index is used to access and refer to items within a list. The first index in a list is referred to as index 0.",
      "metadata": {}
    },
    {
      "id": "b56482ff-3799-4bf7-b3e3-f1d479447fa2",
      "cell_type": "code",
      "source": "print(my_list[0])",
      "metadata": {},
      "outputs": [],
      "execution_count": null
    },
    {
      "id": "2523e4d2-bf6d-4e84-9951-d1a0676b9726",
      "cell_type": "markdown",
      "source": "We can use negative and regular indexing with a list, as we saw previously with strings.",
      "metadata": {}
    },
    {
      "id": "ad4be3b5-755c-40d0-8705-0842d0a3e792",
      "cell_type": "code",
      "source": "print('The same element using positive and negative indexing:\\n\\tPositive:', my_list[0], '\\n\\tNegative:' , my_list[-3])\nprint('The same element using positive and negative indexing:\\n\\tPositive:', my_list[1], '\\n\\tNegative:' , my_list[-2])\nprint('The same element using positive and negative indexing:\\n\\tPositive:', my_list[2], '\\n\\tNegative:' , my_list[-1])",
      "metadata": {},
      "outputs": [],
      "execution_count": null
    },
    {
      "id": "c4b434ef-974c-4a26-88e8-0223b2b6522e",
      "cell_type": "markdown",
      "source": "### List Content\n\nLists can contain strings, floats, and integers. We can nest other lists as well as other data structures. The same indexing conventions apply for nesting.",
      "metadata": {}
    },
    {
      "id": "c54a2da6-dfb4-45f0-9dcd-fd146ef22ccc",
      "cell_type": "code",
      "source": "crazy_list = [False, 'Meron', -702, [1, 2], 9.548]\nprint(crazy_list)",
      "metadata": {},
      "outputs": [],
      "execution_count": null
    },
    {
      "id": "ed354075-1790-4001-bc1c-b18e1befbaf1",
      "cell_type": "markdown",
      "source": "### List Operations\n\nWe can perform slicing in lists. Recall that the first number is the starting index for the slice (inclusive), while the second number is the stopping index (excluded).",
      "metadata": {}
    },
    {
      "id": "0d93ab39-72b0-41db-b5cf-ac42fb5ec0cb",
      "cell_type": "code",
      "source": "print(crazy_list[2:4])",
      "metadata": {},
      "outputs": [],
      "execution_count": null
    },
    {
      "id": "45a60436-aca4-4f4e-9d1a-2b126114b2b6",
      "cell_type": "markdown",
      "source": "We can use the method `extend` to combine one list with another.",
      "metadata": {}
    },
    {
      "id": "7e18aa9b-ac81-4aa2-b70b-352cba8a0216",
      "cell_type": "code",
      "source": "first_list = ['Sally', 10.1]\nsecond_list = [1982, True]\nfirst_list.extend(second_list)\nprint(first_list)",
      "metadata": {},
      "outputs": [],
      "execution_count": null
    },
    {
      "id": "4a57a120-ffe9-4135-97f5-90a169108ec8",
      "cell_type": "markdown",
      "source": "Another similar method is `append`, which allows us to add one element to the list.",
      "metadata": {}
    },
    {
      "id": "1a15c4fc-d1bc-4cdc-8125-12017733f3bd",
      "cell_type": "code",
      "source": "my_list = ['Sally', 10.1]\nprint('Before appending:', my_list)\nmy_list.append(1982)\nprint('After appending:', my_list)",
      "metadata": {},
      "outputs": [],
      "execution_count": null
    },
    {
      "id": "8bf4507f-781d-4028-a933-984969860b17",
      "cell_type": "markdown",
      "source": "As lists are **mutable**, we can change them.",
      "metadata": {}
    },
    {
      "id": "9fba3a65-08d6-4036-abed-a6a3975ce6ad",
      "cell_type": "code",
      "source": "A = ['disco', 10, 1.2]\nprint('Before change:', A)\nA[0] = 'punk rock'\nprint('After change:', A)",
      "metadata": {},
      "outputs": [],
      "execution_count": null
    },
    {
      "id": "f470eb7b-ddae-46cf-a23e-5326bf37e636",
      "cell_type": "markdown",
      "source": "We can also delete an element of a list using the `del` command.",
      "metadata": {}
    },
    {
      "id": "b65dcacf-e98a-47e1-8e1f-2b3e7ab4fe09",
      "cell_type": "code",
      "source": "print('Before change:', A)\ndel(A[0])\nprint('After change:', A)",
      "metadata": {},
      "outputs": [],
      "execution_count": null
    },
    {
      "id": "8a915d27-c144-431f-a413-903e1380bba6",
      "cell_type": "markdown",
      "source": "A similar operation is the `remove` method, which deletes the matching element from a list.",
      "metadata": {}
    },
    {
      "id": "40cb575a-9adc-4cdf-8980-0d909a11fdef",
      "cell_type": "code",
      "source": "A.remove(10)\nprint(A)",
      "metadata": {},
      "outputs": [],
      "execution_count": null
    },
    {
      "id": "38519221-cd48-46cc-aa1c-5b3c347c2191",
      "cell_type": "markdown",
      "source": "There are many more operations available to us with lists. I encourage you to look through [the documentation](https://docs.python.org/3/tutorial/datastructures.html#more-on-lists) to explore the various options at your disposal.",
      "metadata": {}
    },
    {
      "id": "2798d1ec-91ba-40b2-a57f-2b3333b6ce57",
      "cell_type": "markdown",
      "source": "### Copy and Clone List\n\nWhen we set one variable `B` equal to another variable `A`, both `A` and `B` are referencing the same list in memory.",
      "metadata": {}
    },
    {
      "id": "a685c3e7-aff2-4bf9-bbc5-23c989075bff",
      "cell_type": "code",
      "source": "A = ['punk rock', 10, 1.2]\nB = A\nprint('A:', A)\nprint('B:', B)",
      "metadata": {},
      "outputs": [],
      "execution_count": null
    },
    {
      "id": "856a1cee-064c-45ef-a46e-58fe563f9fd9",
      "cell_type": "markdown",
      "source": "If we change the first element in `A` to `'banana'`, we get an unexpected side effect. As `A` and `B` are referencing the same list, if we change list `A`, then list `B` also changes.",
      "metadata": {}
    },
    {
      "id": "e6244dc6-6780-4e62-a3e7-c740cb09c3c6",
      "cell_type": "code",
      "source": "print('B[0]:', B[0])\nA[0] = 'banana'\nprint('B[0]:', B[0])",
      "metadata": {},
      "outputs": [],
      "execution_count": null
    },
    {
      "id": "1e8edf9f-4c60-4368-b553-89bfa9be3ac1",
      "cell_type": "markdown",
      "source": "You can clone list `A` by using the following syntax.",
      "metadata": {}
    },
    {
      "id": "9e525c99-39f2-4697-bc6d-7731c4739ff8",
      "cell_type": "code",
      "source": "B = A[:] # clone by value\nprint(B)",
      "metadata": {},
      "outputs": [],
      "execution_count": null
    },
    {
      "id": "37f800f4-585f-425e-a718-6ae05f7d42c7",
      "cell_type": "markdown",
      "source": "Now if you change `A`, thankfully, `B` will not change.",
      "metadata": {}
    },
    {
      "id": "53860ffc-67a2-4ecf-a4dc-38434c0a9fb3",
      "cell_type": "code",
      "source": "print('B[0]:', B[0])\nA[0] = 'jazz'\nprint('B[0]:', B[0])",
      "metadata": {},
      "outputs": [],
      "execution_count": null
    },
    {
      "id": "c45b6cde-5aa3-4409-9043-a5865d52799b",
      "cell_type": "markdown",
      "source": "<mark>Exercise 1</mark>\n\nCreate a list with the following elements:\n\n- `9.4`\n- `[5,5,9]`\n- `'bonjour'`\n- `False`\n\nPrint the value stored at index 1 of your list. Use a slice to retrieve the elements stored at index 2 and 3 of your list. Finally, add the list `[-3, 'Q']` to your list and print the result.",
      "metadata": {}
    },
    {
      "id": "b9321897-7ee4-435f-af87-af562228a261",
      "cell_type": "code",
      "source": "# TODO: write your solution here\nlistA = [9.4, [5,5,9], 'bonjour', False]\nprint(\"My list is \", listA)",
      "metadata": {
        "trusted": true
      },
      "outputs": [
        {
          "name": "stdout",
          "output_type": "stream",
          "text": "My list is  [9.4, [5, 5, 9], 'bonjour', False]\n"
        }
      ],
      "execution_count": 2
    },
    {
      "id": "c3fd03bf-9fe4-4e09-ba79-6c9293a8ac5d",
      "cell_type": "markdown",
      "source": "### Iterating and Membership\n\nIt is possible for us to loop through a list by using a `for` loop.",
      "metadata": {}
    },
    {
      "id": "fd2d4ada-b2bf-4591-90b3-991f613af257",
      "cell_type": "code",
      "source": "names = ['Sally', 'Meron', 'Jose', 'Rio']\nfor elem in names:\n    print(elem, 'contains', len(elem), 'characters')",
      "metadata": {},
      "outputs": [],
      "execution_count": null
    },
    {
      "id": "efc4b802-d57d-471f-a81d-758573e88def",
      "cell_type": "markdown",
      "source": "Sometimes it is useful to have the index numbers for the elements as we are looping through the list. The `enumerate` function can be used to help with this.",
      "metadata": {}
    },
    {
      "id": "9cd87489-08a7-4b6e-ad90-2d8059550b61",
      "cell_type": "code",
      "source": "for index, elem in enumerate(names):\n    print(elem, 'is found in index', index)",
      "metadata": {},
      "outputs": [],
      "execution_count": null
    },
    {
      "id": "81222c91-5af5-4506-88aa-d8ddff0d1e3b",
      "cell_type": "markdown",
      "source": "We can also use the `in` operator to check if an element exists within a list.",
      "metadata": {}
    },
    {
      "id": "8ad6992b-622d-4988-8b90-ef660df103cd",
      "cell_type": "code",
      "source": "search = input('Enter a name to search: ')\nif search in names:\n    print('Exists')\nelse:\n    print('Uh oh, no good :(')",
      "metadata": {},
      "outputs": [],
      "execution_count": null
    },
    {
      "id": "453c1528-d228-47f1-ad32-bb82dc6e643b",
      "cell_type": "markdown",
      "source": "Similarly, we can use the `not` operator in conjunction with `in` to check if an element does not exist in a list.",
      "metadata": {}
    },
    {
      "id": "83a6ae2c-3259-4272-9649-a8160dcf051b",
      "cell_type": "code",
      "source": "new_name = input('Enter a name to add: ')\nif new_name not in names:\n    names.append(new_name)",
      "metadata": {},
      "outputs": [],
      "execution_count": null
    },
    {
      "id": "30be7e01-bc25-4858-abf7-b517a6fffa92",
      "cell_type": "markdown",
      "source": "<mark>Exercise 2</mark>\n\nWrite the function `count_range` which returns the number of elements in a list within a specific range. This function needs three parameters:\n\n- `the_list`, which represents the list containing elements we want to check\n- `min_value`, which represents the smallest value in the range\n- `max_value`, which represents the largest value in the range\n\nIn other words, for some `min_value` $x$ and `max_value` $y$, this function needs to determine how many elements $t$ in `the_list` satisfy the inequality $x \\leq t \\leq y$. You may assume that all data are numerical.\n\nMake sure to test your function!",
      "metadata": {}
    },
    {
      "id": "b678520a-c82b-4d68-a431-ae4ce852cb58",
      "cell_type": "code",
      "source": "# TODO: write your solution here\ndef count_range(the_list, min_value, max_value):\n    counter = 0;\n    for i in the_list:\n        if i >= min_value and i <= max_value:\n            counter += 1\n    return counter\n\nlistA = [1, 0, 4, 6, 8, 2, 5, 9, 7]\nchecker = count_range(listA, 5, 9)\n\nprint(checker)",
      "metadata": {
        "trusted": true
      },
      "outputs": [
        {
          "name": "stdout",
          "output_type": "stream",
          "text": "5\n"
        }
      ],
      "execution_count": 11
    },
    {
      "id": "b785b6fc-bf0f-48ea-a45a-9d1d6d18be87",
      "cell_type": "markdown",
      "source": "### 2D Lists\n\nIf we allow a list to contain only nested lists, we can think of that result as a 2D list.",
      "metadata": {}
    },
    {
      "id": "79006283-6473-4ab4-828b-3c7f97bc5be6",
      "cell_type": "code",
      "source": "my_table = [ [6,4,0]\n           , [1,0,7]\n           , [9,4,2]\n           , [3,1,6]\n           , [8,2,5] ]",
      "metadata": {
        "trusted": true
      },
      "outputs": [],
      "execution_count": 13
    },
    {
      "id": "0df767af-8138-4931-8133-71b3a56a501a",
      "cell_type": "markdown",
      "source": "It is helpful to visualize this as a grid.\n\n|       | <span style=\"color:red;\">**0**</span> | <span style=\"color:red;\">**1**</span> | <span style=\"color:red;\">**2**</span> |\n|-------|-------|-------|-------|\n| <span style=\"color:green;\">**0**</span> | 6     | 4     | 0     |\n| <span style=\"color:green;\">**1**</span> | 1     | 0     | 7     |\n| <span style=\"color:green;\">**2**</span> | 9     | 4     | 2     |\n| <span style=\"color:green;\">**3**</span> | 3     | 1     | 6     |\n| <span style=\"color:green;\">**4**</span> | 8     | 2     | 5     |\n\nThe numbers in <span style=\"color:red;\">red</span> are the column indices, while the numbers in <span style=\"color:green;\">green</span> are the row indices.",
      "metadata": {},
      "attachments": {}
    },
    {
      "id": "a1ad4abd-50a9-4d9a-9393-716cfee45d54",
      "cell_type": "markdown",
      "source": "To access the individual values in a 2D list, we need to use `[][]` two sets of square brackets.",
      "metadata": {}
    },
    {
      "id": "aa151131-b1cd-47a5-a5dc-34fcafa6d8ef",
      "cell_type": "code",
      "source": "print('Top-left element:', my_table[0][0])\nprint('Bottom-left element:', my_table[4][0])\nprint('Top-right element:', my_table[0][2])\nprint('Bottom-right element:', my_table[4][2])",
      "metadata": {
        "trusted": true
      },
      "outputs": [
        {
          "name": "stdout",
          "output_type": "stream",
          "text": "Top-left element: 6\nBottom-left element: 8\nTop-right element: 0\nBottom-right element: 5\n"
        }
      ],
      "execution_count": 14
    },
    {
      "id": "0cb61cf6-ad31-45a8-93ba-dcb61078e9d1",
      "cell_type": "markdown",
      "source": "<mark>Exercise 3</mark>\n\nWrite code to create a 2D list of integers based on the user's specifications. Allow the user to enter the number of rows, number of columns, and the values to place inside the 2D list. Print the 2D list to verify it was created correctly.",
      "metadata": {}
    },
    {
      "id": "93734483-0c3e-449a-8519-d63a5fe7bf8a",
      "cell_type": "code",
      "source": "# TODO: write your solution here\nuser_rows = await input(\"Enter the number of rows for 2D list: \")",
      "metadata": {
        "trusted": true
      },
      "outputs": [
        {
          "output_type": "stream",
          "name": "stdin",
          "text": "Enter the number of rows for 2D list:  3\n"
        }
      ],
      "execution_count": 17
    },
    {
      "id": "07ad894c-5229-4096-8689-9853499825da",
      "cell_type": "code",
      "source": "user_columns = await input(\"Enter the number of columns for 2D list: \")",
      "metadata": {
        "trusted": true
      },
      "outputs": [
        {
          "output_type": "stream",
          "name": "stdin",
          "text": "Enter the number of columns for 2D list:  4\n"
        }
      ],
      "execution_count": 18
    },
    {
      "id": "c3d07c3a-a990-44b2-90d6-5373e049af0a",
      "cell_type": "code",
      "source": "user_inputs = await input(\"Enter the integer values for 2D list: \")",
      "metadata": {
        "trusted": true
      },
      "outputs": [
        {
          "output_type": "stream",
          "name": "stdin",
          "text": "Enter the integer values for 2D list:  1 4 5 1 8 7 9 6 2 3 0 7\n"
        }
      ],
      "execution_count": 51
    },
    {
      "id": "c53b28d0-66da-4d11-9a35-34f349bef3a6",
      "cell_type": "code",
      "source": "matrix = []\nindex = 0\n\ncleaned_inputs = []\nfor x in user_inputs:\n    stripped_value = x.strip()\n    if stripped_value != '':\n        cleaned_inputs.append(stripped_value)\nuser_inputs = cleaned_inputs\n\nfor i in range(int(user_rows)):\n    row = []\n    for j in range(int(user_columns)):\n        row.append(user_inputs[index])\n        index += 1\n    matrix.append(row)\n    # print(row)\n\nprint(\"The 2D list is: \")\nfor row in matrix:\n    print(\" \".join(map(str, row)))",
      "metadata": {
        "trusted": true
      },
      "outputs": [
        {
          "name": "stdout",
          "output_type": "stream",
          "text": "The 2D list is: \n1 4 5 1\n8 7 9 6\n2 3 0 7\n"
        }
      ],
      "execution_count": 52
    },
    {
      "id": "16fceed1-ac38-4339-a391-f69ad583aa22",
      "cell_type": "code",
      "source": "",
      "metadata": {
        "trusted": true
      },
      "outputs": [],
      "execution_count": null
    },
    {
      "id": "16020bb8-5fe1-4e4a-ba12-d9c1f1ca5ad1",
      "cell_type": "markdown",
      "source": "## Dictionaries\n\nA dictionary consists of keys and values. Instead of the numerical indexes such as a list, dictionaries have **keys**. These keys are used to access values within a dictionary. Keys must be an immutable type (e.g., numbers, strings) and unique. To create a dictionary, use `{ }` curly braces to surround the elements along with the `:` operator to separate a key from its value.",
      "metadata": {},
      "attachments": {}
    },
    {
      "id": "6438825f-3402-4ec5-b214-4830e837ffe1",
      "cell_type": "code",
      "source": "fav_colors = {'Daniel':'red', 'Carlos':'green', 'Emily':'blue'}\nprint(fav_colors)",
      "metadata": {},
      "outputs": [],
      "execution_count": null
    },
    {
      "id": "f0295c21-6bb7-4175-8f2e-85de61ab754f",
      "cell_type": "markdown",
      "source": "### Access\n\nWe can access the values in a dictionary by knowing their key and using the `[]` square brackets.",
      "metadata": {}
    },
    {
      "id": "70882e32-afd2-4038-88a3-95c42b4fa1b3",
      "cell_type": "code",
      "source": "print(fav_colors['Emily'])",
      "metadata": {},
      "outputs": [],
      "execution_count": null
    },
    {
      "id": "ae6c43d3-17c7-4502-ae16-93e9942f4968",
      "cell_type": "markdown",
      "source": "### Adding Elements\n\nAdding new elements to a dictionary is straightforward. We simply use the `[]` square brackets on the dictionary with the new key and value.",
      "metadata": {}
    },
    {
      "id": "7c9763c2-9500-4779-b933-a97b88790a4a",
      "cell_type": "code",
      "source": "user_name = input('Enter your name: ')\nuser_color = input('Enter your favorite color: ')\nfav_colors[user_name] = user_color\nprint(fav_colors)",
      "metadata": {},
      "outputs": [],
      "execution_count": null
    },
    {
      "id": "f67d81bf-7427-4106-ba42-397a0d0b4142",
      "cell_type": "markdown",
      "source": "<mark>Exercise 4</mark>\n\nWrite code to generate and print a dictionary that maps integer values (this is the key) to their square root (this is the value). Begin this dictionary at the number 1. Allow the user to specify the value to stop the dictionary at. Note, you will need to [import the math module](https://docs.python.org/3/library/math.html) and use the appropriate function to calculate square roots.\n\nFor example, if the user enters 5, your code should create the dictionary:\n\n```Python\n{1: 1.0, 2: 1.4142135623730951, 3: 1.7320508075688772, 4: 2.0, 5: 2.23606797749979}\n```",
      "metadata": {}
    },
    {
      "id": "f3502d89-1d3a-4c55-a342-affdc47a0073",
      "cell_type": "code",
      "source": "# TODO: write your solution here\ndict = await input(\"Enter max number of entries for dictionary: \")",
      "metadata": {
        "trusted": true
      },
      "outputs": [
        {
          "output_type": "stream",
          "name": "stdin",
          "text": "Enter max number of entries for dictionary:  7\n"
        }
      ],
      "execution_count": 53
    },
    {
      "id": "251d9807-8115-44d8-9ecf-0cc83dc47e7b",
      "cell_type": "code",
      "source": "import math\n\nsqrt_dict = {}\nfor i in range(1,int(dict)+1):\n    sqrt_dict[i] = math.sqrt(i)\n    \nprint(sqrt_dict)",
      "metadata": {
        "trusted": true
      },
      "outputs": [
        {
          "name": "stdout",
          "output_type": "stream",
          "text": "{1: 1.0, 2: 1.4142135623730951, 3: 1.7320508075688772, 4: 2.0, 5: 2.23606797749979, 6: 2.449489742783178, 7: 2.6457513110645907}\n"
        }
      ],
      "execution_count": 54
    },
    {
      "id": "b2f6e1de-d03d-4c55-b4eb-0671b35bde69",
      "cell_type": "markdown",
      "source": "### Retrieval\n\nThere are various methods for retrieving the keys and values from a dictionary. The `keys()` function will return all keys in the dictionary, while the `values()` returns all the values.",
      "metadata": {}
    },
    {
      "id": "41122923-339c-49cf-ae57-de6992e7e6f0",
      "cell_type": "code",
      "source": "print('All keys:', fav_colors.keys())\nprint('All values:', fav_colors.values())",
      "metadata": {},
      "outputs": [],
      "execution_count": null
    },
    {
      "id": "b322fc8e-ab9e-4618-8e2f-5c60ce3bb9c7",
      "cell_type": "markdown",
      "source": "### Iterating and Membership\n\nSimilar to lists, we can use a `for` loop and the `in` operator to iterate over a dictionary. In particular, the `items()` function, returns both as key-value pairs, is helpful in these situations.",
      "metadata": {}
    },
    {
      "id": "2a3adc2a-01b1-4fb9-862c-f565903fcba0",
      "cell_type": "code",
      "source": "for key, value in fav_colors.items():\n    print(key, value)",
      "metadata": {},
      "outputs": [],
      "execution_count": null
    },
    {
      "id": "25b37102-dbf9-431d-9be8-92158953cf82",
      "cell_type": "markdown",
      "source": "<mark>Exercise 5</mark>\n\nWrite the function `find_min_key` that can find the key of the minimum value in a given dictionary. The function needs only one parameter:\n\n- `the_dict`, which represents the dictionary to iterate over (you may assume that all values are comparable)\n\nFor example, if the dictionary contained the elements:\n\n```Python\n{'a':5, 'b':8, 'c':0, 'd':3, 'e':7}\n```\n\nThe function should return the key `'c'`, since its value `0` is the smallest value in the dictionary.",
      "metadata": {}
    },
    {
      "id": "baf38e0f-80de-4136-bd33-f9e22e7dc7aa",
      "cell_type": "code",
      "source": "# TODO: write your solution here\ndef find_min_key(the_dict):\n    min_key = None\n    min_value = float('inf')\n    \n    for key, value in the_dict.items():\n        if value < min_value:\n            min_value = value\n            min_key = key\n    return min_key\n        \ndictA = {'a':5, 'b':8, 'c':0, 'd':3, 'e':7}\nprint(\"The key with the minimum value is: \", find_min_key(dictA))",
      "metadata": {
        "trusted": true
      },
      "outputs": [
        {
          "name": "stdout",
          "output_type": "stream",
          "text": "The key with the minimum value is:  c\n"
        }
      ],
      "execution_count": 60
    },
    {
      "id": "97095eca-f599-4ce9-9e34-d9ac39e52250",
      "cell_type": "markdown",
      "source": "## Tuples\n\nTuples are a grouping of comma-separated values in Python. They are indicated by the use of `( )` parentheses.",
      "metadata": {}
    },
    {
      "id": "3e8b2d02-02af-47cc-95e1-9ff4ef757d98",
      "cell_type": "code",
      "source": "my_tuple = (5, 'a', False)\nprint(my_tuple)",
      "metadata": {},
      "outputs": [],
      "execution_count": null
    },
    {
      "id": "51192e14-799e-42f3-8f9c-e40fcb1c3be7",
      "cell_type": "markdown",
      "source": "### Indexing\n\nLike the other data structures in Python, tuples supporting indexing. As before, the first element is found at index 0.",
      "metadata": {}
    },
    {
      "id": "f8bb69de-0627-423c-8982-0e0f0ab8ad7c",
      "cell_type": "code",
      "source": "print('First element:', my_tuple[0])\nprint('Last element:', my_tuple[2])\nprint('Last element using negative index:', my_tuple[-1])",
      "metadata": {},
      "outputs": [],
      "execution_count": null
    },
    {
      "id": "cadafaba-8e63-4e34-b6e6-bacd11f7d43e",
      "cell_type": "markdown",
      "source": "Tuples are immutable, meaning they cannot be changed after being created.",
      "metadata": {}
    },
    {
      "id": "7522c1a0-05e3-4889-8454-2f3d046c166b",
      "cell_type": "code",
      "source": "my_tuple[0] = 6",
      "metadata": {
        "scrolled": true
      },
      "outputs": [],
      "execution_count": null
    },
    {
      "id": "377b5bcd-18eb-46bd-9a89-1622cb3722c9",
      "cell_type": "markdown",
      "source": "### Concatenation\n\nWe can **concatenate** or combine two tuples together by using the `+` operator.",
      "metadata": {}
    },
    {
      "id": "8fe47d0e-474e-4ad2-9935-59de266db076",
      "cell_type": "code",
      "source": "other_tuple = ('hooray!', 14.2)\ncombined = my_tuple + other_tuple\nprint(combined)",
      "metadata": {},
      "outputs": [],
      "execution_count": null
    },
    {
      "id": "0cabc511-2034-4bf7-87fd-fdc9826c86fe",
      "cell_type": "markdown",
      "source": "### Slicing\n\nSlicing is also supported in tuples.",
      "metadata": {}
    },
    {
      "id": "22189ce7-e305-453f-95ab-1619bff03b90",
      "cell_type": "code",
      "source": "print(combined[1:4])",
      "metadata": {},
      "outputs": [],
      "execution_count": null
    },
    {
      "id": "9b08df30-4846-4a08-b702-181b0c781cdd",
      "cell_type": "markdown",
      "source": "### Packing and Unpacking\n\nTuples can be created by **packing** values into the tuple.",
      "metadata": {}
    },
    {
      "id": "aab029bb-de74-4f09-aa99-8f736a1f1578",
      "cell_type": "code",
      "source": "packed_tuple = -7, 'desert', [1,2,3]\nprint(packed_tuple)",
      "metadata": {},
      "outputs": [],
      "execution_count": null
    },
    {
      "id": "de08f451-9db0-4b5c-b87b-23ccaf5b5f13",
      "cell_type": "markdown",
      "source": "The inverse operation is called **unpacking**. This allows us to extract elements from a tuple and assign them to individual variables.",
      "metadata": {}
    },
    {
      "id": "05993136-917d-4999-939d-724e016806ed",
      "cell_type": "code",
      "source": "x, y, z = packed_tuple\nprint(x, y, z)",
      "metadata": {},
      "outputs": [],
      "execution_count": null
    },
    {
      "id": "94f06305-7703-480f-832c-221ec9fc6efe",
      "cell_type": "markdown",
      "source": "<mark>Exercise 6</mark>\n\nWrite code that is able to calculate the average value of a tuple. Do this by adding all the numbers inside of the tuple and dividing by the length of the tuple.",
      "metadata": {}
    },
    {
      "id": "63ed6d83-8131-454e-88e5-407ae4e3048a",
      "cell_type": "code",
      "source": "# TODO: write your solution here\ntupleA = 3, 4, 5, 6, 7, 8, 9\n\ntotal = sum(tupleA)\navg = total / len(tupleA)\n\nprint(\"The average of the tuple \", tupleA, \" is \", avg)",
      "metadata": {
        "trusted": true
      },
      "outputs": [
        {
          "name": "stdout",
          "output_type": "stream",
          "text": "The average of the tuple  (3, 4, 5, 6, 7, 8, 9)  is  6.0\n"
        }
      ],
      "execution_count": 64
    },
    {
      "id": "209315c1-6e96-4076-b171-151272f72bc0",
      "cell_type": "markdown",
      "source": "## Sets\n\nOne final data structure in Python is the set. This is used to represent a collection of related items but with no particular ordering. Importantly, a set does not allow for duplicate objects. To create a set, we use the `{ }` curly braces around the elements.",
      "metadata": {}
    },
    {
      "id": "22bbb425-ffc9-4238-b432-6631ea2aa98b",
      "cell_type": "code",
      "source": "music_genres = {'pop', 'rock', 'jazz', 'soul', 'punk rock', 'rock', 'R&B', 'rap', 'jazz'}\nprint(music_genres)",
      "metadata": {},
      "outputs": [],
      "execution_count": null
    },
    {
      "id": "fc941c53-82e1-4bea-b048-a0dda8a5be40",
      "cell_type": "markdown",
      "source": "### Generating Sets\n\nWe can generate a set from other existing data structures by using the `set()` function.",
      "metadata": {}
    },
    {
      "id": "b78fd1f3-7e32-4162-976c-ad02bcd9cf25",
      "cell_type": "code",
      "source": "temp_list = [5, 'abc', 5, True, 1.04, 5]\nset_from_list = set(temp_list)\nprint('Original list:', temp_list)\nprint('Set version:', set_from_list)",
      "metadata": {},
      "outputs": [],
      "execution_count": null
    },
    {
      "id": "8ff7eedf-5d20-4d58-b09f-abd6ae972ace",
      "cell_type": "markdown",
      "source": "Be careful when converting one data structure to another. For example, converting a dictionary to a set will only keep the key information, not the values.",
      "metadata": {}
    },
    {
      "id": "1edbb917-f224-41f3-b0ec-41ec41456db5",
      "cell_type": "code",
      "source": "ddd = {'a':1, 'b':2, 'c':3}\nprint(ddd)\nsss = set(ddd)\nprint(sss)",
      "metadata": {},
      "outputs": [],
      "execution_count": null
    },
    {
      "id": "f1eca394-ba79-41ee-b790-462a3e22698b",
      "cell_type": "markdown",
      "source": "### Set Operations\n\nWe can add elements to a set by using the `add()` function.",
      "metadata": {}
    },
    {
      "id": "db7ede97-e35a-4207-9df5-1a6847ad63d2",
      "cell_type": "code",
      "source": "music_genres.add('techno')\nprint(music_genres)",
      "metadata": {},
      "outputs": [],
      "execution_count": null
    },
    {
      "id": "df14ea09-c61c-4a1d-8d3b-bd076b72db32",
      "cell_type": "markdown",
      "source": "Inversely, we can use the `remove()` function to erase an element from a set.",
      "metadata": {}
    },
    {
      "id": "1b8a8790-4452-4187-ba8d-e167f2f19960",
      "cell_type": "code",
      "source": "music_genres.remove('pop')\nprint(music_genres)",
      "metadata": {},
      "outputs": [],
      "execution_count": null
    },
    {
      "id": "3c72f1c5-cc11-4077-8c91-dcb42763883d",
      "cell_type": "markdown",
      "source": "<mark>Exercise 7</mark>\n\nUsing only sets as your data structure, determine if a given string from the user contains all the vowels (A,E,I,O,U).",
      "metadata": {}
    },
    {
      "id": "131d601d-c9af-4358-a5f4-d6230e0acff4",
      "cell_type": "code",
      "source": "user_tuple = await input(\"Enter your desired string for analysis: \")",
      "metadata": {
        "trusted": true
      },
      "outputs": [
        {
          "output_type": "stream",
          "name": "stdin",
          "text": "Enter your desired string for analysis:  Ilikeapples\n"
        }
      ],
      "execution_count": 65
    },
    {
      "id": "19f30ed8-7a21-4f2f-a560-2bba29ee839a",
      "cell_type": "code",
      "source": "# TODO: write your solution here\nvowels = {'A', 'E', 'I', 'O', 'U'}\n\nif vowels.issubset(user_tuple) == 0:\n    print(\"Yay! All vowels are present! :D\")\nelse:\n    print(\"Something is missing... :(\")",
      "metadata": {
        "trusted": true
      },
      "outputs": [
        {
          "name": "stdout",
          "output_type": "stream",
          "text": "Yay! All vowels are present! :D\n"
        }
      ],
      "execution_count": 70
    },
    {
      "id": "b9d79b5e-1130-4779-ba19-b3f326e434b8",
      "cell_type": "code",
      "source": "",
      "metadata": {
        "trusted": true
      },
      "outputs": [],
      "execution_count": null
    }
  ]
}